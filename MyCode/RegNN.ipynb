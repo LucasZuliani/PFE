{
 "cells": [
  {
   "cell_type": "code",
   "execution_count": 1,
   "metadata": {},
   "outputs": [],
   "source": [
    "import sys\n",
    "import os\n",
    "import importlib   \n",
    "\n",
    "sys.path.append(os.path.join(os.getcwd(), 'NeuralNetworks'))\n",
    "import Fully_connected_network as FC\n",
    "importlib.reload(FC)\n",
    "\n",
    "import torch\n",
    "import matplotlib.pyplot as plt"
   ]
  },
  {
   "cell_type": "code",
   "execution_count": 3,
   "metadata": {},
   "outputs": [
    {
     "name": "stdout",
     "output_type": "stream",
     "text": [
      "Running on the GPU\n"
     ]
    }
   ],
   "source": [
    "if torch.cuda.is_available():\n",
    "   device = torch.device(\"cuda\")\n",
    "   print(\"Running on the GPU\")\n",
    "else:\n",
    "   device = torch.device(\"cpu\")\n",
    "   print(\"Running on the CPU\")\n",
    "\n",
    "torch.manual_seed(15)\n",
    "torch.set_default_dtype(torch.float64)"
   ]
  },
  {
   "cell_type": "code",
   "execution_count": 4,
   "metadata": {},
   "outputs": [],
   "source": [
    "def u_exact(x:torch.Tensor):\n",
    "    # u_g = torch.log(x+2) + torch.cos(2*x + x**3)\n",
    "    u_g = torch.sin(2*x + 1) + 0.2*torch.exp(1.3*x)\n",
    "    # u_g = x**3/(0.01 + x**4)\n",
    "    return u_g"
   ]
  },
  {
   "cell_type": "code",
   "execution_count": 45,
   "metadata": {},
   "outputs": [],
   "source": [
    "def calculate_kappa(x):\n",
    "    nb_zeros = torch.where(x[:-1, 0] * x[1:, 0] < 0)[0]\n",
    "    kappa = 3*(nb_zeros.shape[0])\n",
    "    return kappa"
   ]
  },
  {
   "cell_type": "code",
   "execution_count": 5,
   "metadata": {},
   "outputs": [],
   "source": [
    "class OneStageFCNN():\n",
    "    def __init__(self, x_train, u_train, hidden_size, kappa, lower_bound, upper_bound, activation_func):\n",
    "        super(OneStageFCNN, self).__init__()\n",
    "\n",
    "        self.u_scale = torch.max(torch.abs(u_train))/2\n",
    "        self.loss_scale = self.u_scale**2\n",
    "        self.x_train = x_train\n",
    "        self.u_train = u_train/self.u_scale\n",
    "\n",
    "        self.hidden_size = hidden_size\n",
    "        self.kappa = kappa\n",
    "        self.lower_bound = lower_bound\n",
    "        self.upper_bound = upper_bound\n",
    "        self.activation_func = activation_func\n",
    "\n",
    "        self.model = FC.FullyConnectedNetwork(domain_bounds=[lower_bound, upper_bound], kappa=kappa, input_dim=1, hidden_size=hidden_size, actv=activation_func) \n",
    "        self.model_optimizer = 'defined in train'\n",
    "        self.loss_criterion = 'defined in train'\n",
    "\n",
    "    def _adam_train(self, n_iter):\n",
    "        loss_criterion = self.loss_criterion\n",
    "        model_optimizer = self.model_optimizer\n",
    "\n",
    "        for iter_i in range(n_iter):\n",
    "            model_optimizer.zero_grad()\n",
    "            u_pred = self.model(self.x_train)\n",
    "            loss_value = loss_criterion(u_pred, self.u_train) * self.loss_scale\n",
    "            loss_value.backward()\n",
    "            model_optimizer.step()\n",
    "\n",
    "            if iter_i % 100 == 0:\n",
    "                print(f\"Iteration {iter_i}, Loss: {loss_value}\")\n",
    "\n",
    "    def _closure(self):\n",
    "        self.model_optimizer.zero_grad()\n",
    "        u_pred = self.model(self.x_train)\n",
    "        loss_value = self.loss_criterion(u_pred, self.u_train) * self.loss_scale\n",
    "        loss_value.backward()\n",
    "        return loss_value\n",
    "    \n",
    "    def _lbfgs_train(self, n_iter):\n",
    "        for iter_i in range(n_iter):\n",
    "            loss_value = self.model_optimizer.step(self._closure)\n",
    "            if iter_i % 100 == 0:\n",
    "                print(f\"Iteration {iter_i}, Loss: {loss_value}\")\n",
    "\n",
    "    def train(self, n_iter, method):\n",
    "        self.loss_criterion = torch.nn.MSELoss()\n",
    "        if method == 1:\n",
    "            self.model_optimizer = torch.optim.Adam(self.model.parameters(), lr=0.001)\n",
    "            self._adam_train(n_iter)\n",
    "        elif method == 2:\n",
    "            self.model_optimizer = torch.optim.LBFGS(self.model.parameters(), lr=0.1, max_iter=n_iter//3, tolerance_grad=1e-11, line_search_fn='strong_wolfe')\n",
    "            self._lbfgs_train(n_iter)\n",
    "\n",
    "    def predict(self, x_to_predict):\n",
    "        u_pred = self.model(x_to_predict) * self.u_scale\n",
    "        return u_pred\n",
    "\n"
   ]
  },
  {
   "cell_type": "code",
   "execution_count": 6,
   "metadata": {},
   "outputs": [],
   "source": [
    "nb_training_points = 1501\n",
    "x_train = torch.linspace(-1.02, 1.02, nb_training_points).reshape(-1,1)\n",
    "u_train = u_exact(x_train)\n",
    "\n",
    "low_bound_xtrain, up_bound_xtrain = x_train.min(), x_train.max()\n",
    "\n",
    "nb_evaluation_points = 8000\n",
    "x_eval = torch.linspace(-1, 1, nb_evaluation_points).reshape(-1,1)\n",
    "u_eval = u_exact(x_eval)"
   ]
  },
  {
   "cell_type": "code",
   "execution_count": 7,
   "metadata": {},
   "outputs": [
    {
     "name": "stdout",
     "output_type": "stream",
     "text": [
      "Iteration 0, Loss: 0.8357330396734408\n",
      "Iteration 100, Loss: 0.05516022328886819\n",
      "Iteration 200, Loss: 0.007067222874688418\n",
      "Iteration 300, Loss: 0.004586739143014243\n",
      "Iteration 400, Loss: 0.00405279144753776\n",
      "Iteration 500, Loss: 0.003626077248883533\n",
      "Iteration 600, Loss: 0.0032847319076860174\n",
      "Iteration 700, Loss: 0.003006933693898973\n",
      "Iteration 800, Loss: 0.0027729198624681906\n",
      "Iteration 900, Loss: 0.002567018746909208\n",
      "Iteration 1000, Loss: 0.0023774415520433274\n",
      "Iteration 1100, Loss: 0.0021950440381769123\n",
      "Iteration 1200, Loss: 0.0020118321871704036\n",
      "Iteration 1300, Loss: 0.001819483901270916\n",
      "Iteration 1400, Loss: 0.0016080247417572192\n",
      "Iteration 1500, Loss: 0.0013653264943729716\n",
      "Iteration 1600, Loss: 0.0010801432637915608\n",
      "Iteration 1700, Loss: 0.0007553862273571919\n",
      "Iteration 1800, Loss: 0.0004335804652201224\n",
      "Iteration 1900, Loss: 0.00019262999378263107\n",
      "Iteration 2000, Loss: 6.849610802748041e-05\n",
      "Iteration 2100, Loss: 2.3259949295006378e-05\n",
      "Iteration 2200, Loss: 9.302596467505902e-06\n",
      "Iteration 2300, Loss: 4.490708834367431e-06\n",
      "Iteration 2400, Loss: 2.4441183747821066e-06\n",
      "Iteration 2500, Loss: 1.4804490219940526e-06\n",
      "Iteration 2600, Loss: 1.016627406618363e-06\n",
      "Iteration 2700, Loss: 7.937762436435273e-07\n",
      "Iteration 2800, Loss: 6.869100374343595e-07\n",
      "Iteration 2900, Loss: 6.347640963344217e-07\n",
      "Iteration 3000, Loss: 6.07662306142321e-07\n",
      "Iteration 3100, Loss: 5.916349820102919e-07\n",
      "Iteration 3200, Loss: 5.803702352668812e-07\n",
      "Iteration 3300, Loss: 5.711596832025199e-07\n",
      "Iteration 3400, Loss: 5.629124331054467e-07\n",
      "Iteration 3500, Loss: 5.552233669773249e-07\n",
      "Iteration 3600, Loss: 5.479590458255033e-07\n",
      "Iteration 3700, Loss: 5.410847285780961e-07\n",
      "Iteration 3800, Loss: 5.34596844685698e-07\n",
      "Iteration 3900, Loss: 5.284984549317216e-07\n",
      "Iteration 4000, Loss: 5.227909770819578e-07\n",
      "Iteration 4100, Loss: 5.174716340457778e-07\n",
      "Iteration 4200, Loss: 5.125328132928262e-07\n",
      "Iteration 4300, Loss: 5.079620811389887e-07\n",
      "Iteration 4400, Loss: 5.037424735588216e-07\n",
      "Iteration 4500, Loss: 4.998529544704044e-07\n",
      "Iteration 4600, Loss: 4.962690027906825e-07\n",
      "Iteration 4700, Loss: 4.929633018908758e-07\n",
      "Iteration 4800, Loss: 4.899065029210124e-07\n",
      "Iteration 4900, Loss: 4.934231013449998e-07\n",
      "Iteration 0, Loss: 4.849304425085523e-07\n",
      "Iteration 100, Loss: 4.843060300572913e-07\n",
      "Iteration 200, Loss: 4.843060300572913e-07\n",
      "Iteration 300, Loss: 4.843060300572913e-07\n",
      "Iteration 400, Loss: 4.843060300572913e-07\n",
      "Iteration 500, Loss: 4.843060300572913e-07\n",
      "Iteration 600, Loss: 4.843060300572913e-07\n",
      "Iteration 700, Loss: 4.843060300572913e-07\n",
      "Iteration 800, Loss: 4.843060300572913e-07\n",
      "Iteration 900, Loss: 4.843060300572913e-07\n"
     ]
    }
   ],
   "source": [
    "# Fist stage of training\n",
    "\n",
    "model1 = OneStageFCNN(x_train, u_train, hidden_size=20, kappa=1, lower_bound=low_bound_xtrain, upper_bound=up_bound_xtrain, activation_func=0)\n",
    "model1.train(5000, 1)\n",
    "model1.train(1000, 2)\n",
    "u_pred = model1.predict(x_eval)"
   ]
  },
  {
   "cell_type": "code",
   "execution_count": 9,
   "metadata": {},
   "outputs": [
    {
     "ename": "NameError",
     "evalue": "name 'calculate_kappa' is not defined",
     "output_type": "error",
     "traceback": [
      "\u001b[0;31m---------------------------------------------------------------------------\u001b[0m",
      "\u001b[0;31mNameError\u001b[0m                                 Traceback (most recent call last)",
      "Cell \u001b[0;32mIn [9], line 4\u001b[0m\n\u001b[1;32m      1\u001b[0m \u001b[38;5;66;03m# Second stage of the training\u001b[39;00m\n\u001b[1;32m      3\u001b[0m u_train2 \u001b[38;5;241m=\u001b[39m u_train \u001b[38;5;241m-\u001b[39m model1\u001b[38;5;241m.\u001b[39mpredict(x_train)\u001b[38;5;241m.\u001b[39mdetach()\n\u001b[0;32m----> 4\u001b[0m kappa2 \u001b[38;5;241m=\u001b[39m \u001b[43mcalculate_kappa\u001b[49m(u_train2)\n\u001b[1;32m      6\u001b[0m model2 \u001b[38;5;241m=\u001b[39m OneStageFCNN(x_train, u_train2, hidden_size\u001b[38;5;241m=\u001b[39m\u001b[38;5;241m20\u001b[39m, kappa\u001b[38;5;241m=\u001b[39mkappa2, lower_bound\u001b[38;5;241m=\u001b[39mlow_bound_xtrain, upper_bound\u001b[38;5;241m=\u001b[39mup_bound_xtrain, activation_func\u001b[38;5;241m=\u001b[39m\u001b[38;5;241m1\u001b[39m)\n\u001b[1;32m      7\u001b[0m model2\u001b[38;5;241m.\u001b[39mtrain(\u001b[38;5;241m10000\u001b[39m, \u001b[38;5;241m1\u001b[39m)\n",
      "\u001b[0;31mNameError\u001b[0m: name 'calculate_kappa' is not defined"
     ]
    }
   ],
   "source": [
    "# Second stage of the training\n",
    "\n",
    "u_train2 = u_train - model1.predict(x_train).detach()\n",
    "kappa2 = calculate_kappa(u_train2)\n",
    "\n",
    "model2 = OneStageFCNN(x_train, u_train2, hidden_size=20, kappa=kappa2, lower_bound=low_bound_xtrain, upper_bound=up_bound_xtrain, activation_func=1)\n",
    "model2.train(10000, 1)\n",
    "model2.train(1000, 2)\n",
    "u_pred2 = model2.predict(x_eval)\n",
    "u_p = u_pred + u_pred2"
   ]
  },
  {
   "cell_type": "code",
   "execution_count": 50,
   "metadata": {},
   "outputs": [
    {
     "name": "stdout",
     "output_type": "stream",
     "text": [
      "Iteration 0, Loss: 7.733722427074805e-11\n",
      "Iteration 100, Loss: 5.831356735941166e-11\n",
      "Iteration 200, Loss: 5.118169397964633e-11\n",
      "Iteration 300, Loss: 3.747928749259483e-11\n",
      "Iteration 400, Loss: 2.7650310852407906e-11\n",
      "Iteration 500, Loss: 2.0265922780883927e-11\n",
      "Iteration 600, Loss: 1.56885093330374e-11\n",
      "Iteration 700, Loss: 1.3052433734097765e-11\n",
      "Iteration 800, Loss: 1.1615007413349168e-11\n",
      "Iteration 900, Loss: 1.0712756933198743e-11\n",
      "Iteration 1000, Loss: 1.002057403178919e-11\n",
      "Iteration 1100, Loss: 9.432910795696297e-12\n",
      "Iteration 1200, Loss: 8.91457274288013e-12\n",
      "Iteration 1300, Loss: 8.453776413461438e-12\n",
      "Iteration 1400, Loss: 8.0445846901928e-12\n",
      "Iteration 1500, Loss: 7.680211524293332e-12\n",
      "Iteration 1600, Loss: 7.352808174220577e-12\n",
      "Iteration 1700, Loss: 7.0555108600020945e-12\n",
      "Iteration 1800, Loss: 6.783767368459697e-12\n",
      "Iteration 1900, Loss: 6.5351811862509515e-12\n",
      "Iteration 2000, Loss: 6.308533828124501e-12\n",
      "Iteration 2100, Loss: 6.10287618800453e-12\n",
      "Iteration 2200, Loss: 5.9170950750449875e-12\n",
      "Iteration 2300, Loss: 5.74986563689447e-12\n",
      "Iteration 2400, Loss: 5.599749782355554e-12\n",
      "Iteration 2500, Loss: 5.465287935377365e-12\n",
      "Iteration 2600, Loss: 5.345044091668795e-12\n",
      "Iteration 2700, Loss: 5.2376185073725845e-12\n",
      "Iteration 2800, Loss: 5.1416507694873825e-12\n",
      "Iteration 2900, Loss: 5.05582694612473e-12\n",
      "Iteration 3000, Loss: 4.9788941515940384e-12\n",
      "Iteration 3100, Loss: 4.90967952374597e-12\n",
      "Iteration 3200, Loss: 4.847108576838375e-12\n",
      "Iteration 3300, Loss: 4.7902187335677104e-12\n",
      "Iteration 3400, Loss: 4.738165901422592e-12\n",
      "Iteration 3500, Loss: 4.690223996327806e-12\n",
      "Iteration 3600, Loss: 4.6457786895805035e-12\n",
      "Iteration 3700, Loss: 4.604317240592125e-12\n",
      "Iteration 3800, Loss: 4.565416258769372e-12\n",
      "Iteration 3900, Loss: 4.5287288846475715e-12\n",
      "Iteration 4000, Loss: 4.4939724233012686e-12\n",
      "Iteration 4100, Loss: 4.460917043642257e-12\n",
      "Iteration 4200, Loss: 4.429375835786803e-12\n",
      "Iteration 4300, Loss: 4.3991963024875134e-12\n",
      "Iteration 4400, Loss: 4.370253231395857e-12\n",
      "Iteration 4500, Loss: 4.342442827472983e-12\n",
      "Iteration 4600, Loss: 4.315677956684636e-12\n",
      "Iteration 4700, Loss: 4.289884346611459e-12\n",
      "Iteration 4800, Loss: 4.264997596021055e-12\n",
      "Iteration 4900, Loss: 4.240960857488421e-12\n",
      "Iteration 0, Loss: 4.217723071437339e-12\n",
      "Iteration 100, Loss: 4.217723071437339e-12\n",
      "Iteration 200, Loss: 4.217723071437339e-12\n",
      "Iteration 300, Loss: 4.217723071437339e-12\n",
      "Iteration 400, Loss: 4.217723071437339e-12\n",
      "Iteration 500, Loss: 4.217723071437339e-12\n",
      "Iteration 600, Loss: 4.217723071437339e-12\n",
      "Iteration 700, Loss: 4.217723071437339e-12\n",
      "Iteration 800, Loss: 4.217723071437339e-12\n",
      "Iteration 900, Loss: 4.217723071437339e-12\n"
     ]
    }
   ],
   "source": [
    "# Third stage of the training\n",
    "nb_training_points_strengthening = 4801\n",
    "x_train_strengthening = torch.linspace(-1.02, 1.02, nb_training_points_strengthening).reshape(-1,1)\n",
    "u_train_strengthening = u_exact(x_train_strengthening)\n",
    "\n",
    "u_train3 = u_train_strengthening - model1.predict(x_train_strengthening).detach() - model2.predict(x_train_strengthening).detach()\n",
    "kappa3 = calculate_kappa(u_train3)\n",
    "\n",
    "model3 = OneStageFCNN(x_train_strengthening, u_train3, hidden_size=30, kappa=kappa3, lower_bound=low_bound_xtrain, upper_bound=up_bound_xtrain, activation_func=1)\n",
    "model3.train(5000, 1)\n",
    "model3.train(1000, 2)\n",
    "u_pred3 = model3.predict(x_eval)\n",
    "u_p2 = u_p + u_pred3"
   ]
  },
  {
   "cell_type": "code",
   "execution_count": 51,
   "metadata": {},
   "outputs": [
    {
     "name": "stdout",
     "output_type": "stream",
     "text": [
      "Iteration 0, Loss: 3.352277723876177e-11\n",
      "Iteration 100, Loss: 2.7015186430584868e-11\n",
      "Iteration 200, Loss: 2.233702935128038e-11\n",
      "Iteration 300, Loss: 1.9515313789327464e-11\n",
      "Iteration 400, Loss: 1.7598379801782472e-11\n",
      "Iteration 500, Loss: 1.620684774080026e-11\n",
      "Iteration 600, Loss: 1.5165922811789343e-11\n",
      "Iteration 700, Loss: 1.4348448130142723e-11\n",
      "Iteration 800, Loss: 1.3665882069156688e-11\n",
      "Iteration 900, Loss: 1.3065967470884291e-11\n",
      "Iteration 1000, Loss: 1.2521990937754655e-11\n",
      "Iteration 1100, Loss: 1.2021078858488101e-11\n",
      "Iteration 1200, Loss: 1.1556401763066011e-11\n",
      "Iteration 1300, Loss: 1.1123565558335883e-11\n",
      "Iteration 1400, Loss: 1.0719174535813064e-11\n",
      "Iteration 1500, Loss: 1.034038768420182e-11\n",
      "Iteration 1600, Loss: 9.985225359017312e-12\n",
      "Iteration 1700, Loss: 9.653077922824054e-12\n",
      "Iteration 1800, Loss: 9.344698045083094e-12\n",
      "Iteration 1900, Loss: 9.061485787484053e-12\n",
      "Iteration 2000, Loss: 8.804445157608073e-12\n",
      "Iteration 2100, Loss: 8.573384942906894e-12\n",
      "Iteration 2200, Loss: 8.36673663084045e-12\n",
      "Iteration 2300, Loss: 8.181939949101455e-12\n",
      "Iteration 2400, Loss: 8.016047852891447e-12\n",
      "Iteration 2500, Loss: 7.866226102638944e-12\n",
      "Iteration 2600, Loss: 7.730022751619527e-12\n",
      "Iteration 2700, Loss: 7.605439217515185e-12\n",
      "Iteration 2800, Loss: 7.490884376301524e-12\n",
      "Iteration 2900, Loss: 7.38508221707649e-12\n",
      "Iteration 3000, Loss: 7.286978118565229e-12\n",
      "Iteration 3100, Loss: 7.195666116685011e-12\n",
      "Iteration 3200, Loss: 7.110342859815931e-12\n",
      "Iteration 3300, Loss: 7.030283888340155e-12\n",
      "Iteration 3400, Loss: 6.954834080899986e-12\n",
      "Iteration 3500, Loss: 6.883404748972195e-12\n",
      "Iteration 3600, Loss: 6.81547242725729e-12\n",
      "Iteration 3700, Loss: 6.7505769837104085e-12\n",
      "Iteration 3800, Loss: 6.688318417462445e-12\n",
      "Iteration 3900, Loss: 6.628352579845982e-12\n",
      "Iteration 4000, Loss: 6.570386323003367e-12\n",
      "Iteration 4100, Loss: 6.514172545676492e-12\n",
      "Iteration 4200, Loss: 6.459505462638456e-12\n",
      "Iteration 4300, Loss: 6.406216272145704e-12\n",
      "Iteration 4400, Loss: 6.354169272468232e-12\n",
      "Iteration 4500, Loss: 6.3032583915631405e-12\n",
      "Iteration 4600, Loss: 6.25340403979835e-12\n",
      "Iteration 4700, Loss: 6.20455016868385e-12\n",
      "Iteration 4800, Loss: 6.156661414121833e-12\n",
      "Iteration 4900, Loss: 6.1097202172397385e-12\n",
      "Iteration 0, Loss: 6.0637238463707755e-12\n",
      "Iteration 100, Loss: 6.0637238463707755e-12\n",
      "Iteration 200, Loss: 6.0637238463707755e-12\n",
      "Iteration 300, Loss: 6.0637238463707755e-12\n",
      "Iteration 400, Loss: 6.0637238463707755e-12\n",
      "Iteration 500, Loss: 6.0637238463707755e-12\n",
      "Iteration 600, Loss: 6.0637238463707755e-12\n",
      "Iteration 700, Loss: 6.0637238463707755e-12\n",
      "Iteration 800, Loss: 6.0637238463707755e-12\n",
      "Iteration 900, Loss: 6.0637238463707755e-12\n"
     ]
    }
   ],
   "source": [
    "# Fourth stage of the training\n",
    "u_train4 = u_train_strengthening - model1.predict(x_train_strengthening).detach() - model2.predict(x_train_strengthening).detach() - model3.predict(x_train_strengthening).detach()\n",
    "kappa4 = calculate_kappa(u_train4)\n",
    "\n",
    "model4 = OneStageFCNN(x_train_strengthening, u_train4, hidden_size=30, kappa=kappa4, lower_bound=low_bound_xtrain, upper_bound=up_bound_xtrain, activation_func=1)\n",
    "model4.train(5000, 1)\n",
    "model4.train(1000, 2)\n",
    "u_pred4 = model4.predict(x_eval)\n",
    "\n",
    "u_p3 = u_p2 + u_pred4"
   ]
  },
  {
   "cell_type": "code",
   "execution_count": 10,
   "metadata": {},
   "outputs": [
    {
     "ename": "NameError",
     "evalue": "name 'u_pred2' is not defined",
     "output_type": "error",
     "traceback": [
      "\u001b[0;31m---------------------------------------------------------------------------\u001b[0m",
      "\u001b[0;31mNameError\u001b[0m                                 Traceback (most recent call last)",
      "Cell \u001b[0;32mIn [10], line 11\u001b[0m\n\u001b[1;32m      8\u001b[0m axes[\u001b[38;5;241m0\u001b[39m]\u001b[38;5;241m.\u001b[39mset_title(\u001b[38;5;124m'\u001b[39m\u001b[38;5;124mFirst-stage NN\u001b[39m\u001b[38;5;124m'\u001b[39m)\n\u001b[1;32m     10\u001b[0m axes[\u001b[38;5;241m1\u001b[39m]\u001b[38;5;241m.\u001b[39mplot(x_train, u_train2\u001b[38;5;241m.\u001b[39mdetach(), \u001b[38;5;124m'\u001b[39m\u001b[38;5;124mb-\u001b[39m\u001b[38;5;124m'\u001b[39m, label\u001b[38;5;241m=\u001b[39m\u001b[38;5;124mr\u001b[39m\u001b[38;5;124m'\u001b[39m\u001b[38;5;124m$e_1(x) = u_g(x) - u_0(x)$\u001b[39m\u001b[38;5;124m'\u001b[39m)\n\u001b[0;32m---> 11\u001b[0m axes[\u001b[38;5;241m1\u001b[39m]\u001b[38;5;241m.\u001b[39mplot(x_eval, \u001b[43mu_pred2\u001b[49m\u001b[38;5;241m.\u001b[39mdetach(), \u001b[38;5;124m'\u001b[39m\u001b[38;5;124mr--\u001b[39m\u001b[38;5;124m'\u001b[39m, label\u001b[38;5;241m=\u001b[39m\u001b[38;5;124mr\u001b[39m\u001b[38;5;124m'\u001b[39m\u001b[38;5;124m2nd-stage NN: $u_1(x)$\u001b[39m\u001b[38;5;124m'\u001b[39m)\n\u001b[1;32m     12\u001b[0m axes[\u001b[38;5;241m1\u001b[39m]\u001b[38;5;241m.\u001b[39mset_xlim(\u001b[38;5;241m-\u001b[39m\u001b[38;5;241m1\u001b[39m, \u001b[38;5;241m1\u001b[39m)\n\u001b[1;32m     13\u001b[0m axes[\u001b[38;5;241m1\u001b[39m]\u001b[38;5;241m.\u001b[39mlegend()\n",
      "\u001b[0;31mNameError\u001b[0m: name 'u_pred2' is not defined"
     ]
    },
    {
     "data": {
      "image/png": "[encoded data removed]",
      "text/plain": [
       "<Figure size 1500x600 with 4 Axes>"
      ]
     },
     "metadata": {},
     "output_type": "display_data"
    }
   ],
   "source": [
    "fig, axes = plt.subplots(4, 1, figsize=(15, 6))\n",
    "fig.subplots_adjust(hspace=0.8)\n",
    "\n",
    "axes[0].plot(x_eval, u_eval, 'b-', label='Exact')\n",
    "axes[0].plot(x_eval, u_pred.detach(), 'r--', label='Predicted')\n",
    "axes[0].set_xlim(low_bound_xtrain, up_bound_xtrain)\n",
    "axes[0].legend()\n",
    "axes[0].set_title('First-stage NN')\n",
    "\n",
    "axes[1].plot(x_train, u_train2.detach(), 'b-', label=r'$e_1(x) = u_g(x) - u_0(x)$')\n",
    "axes[1].plot(x_eval, u_pred2.detach(), 'r--', label=r'2nd-stage NN: $u_1(x)$')\n",
    "axes[1].set_xlim(-1, 1)\n",
    "axes[1].legend()\n",
    "axes[1].set_title('Residue order 1')\n",
    "\n",
    "axes[2].plot(x_train_strengthening, u_train3, 'b-', label='Exact')\n",
    "axes[2].plot(x_eval, u_pred3.detach(), 'r--', label='Predicted')\n",
    "axes[2].set_xlim(-1, 1)\n",
    "axes[2].legend()\n",
    "axes[2].set_title('Residue order 2')\n",
    "\n",
    "axes[3].plot(x_train_strengthening, u_train4.detach(), 'b-', label='Exact')\n",
    "axes[3].plot(x_eval, u_pred4.detach(), 'r--', label='Predicted')\n",
    "axes[3].set_xlim(-1, 1)\n",
    "axes[3].legend()\n",
    "axes[3].set_title('Residue order 3')\n",
    "\n",
    "plt.show()"
   ]
  },
  {
   "cell_type": "code",
   "execution_count": 53,
   "metadata": {},
   "outputs": [
    {
     "name": "stdout",
     "output_type": "stream",
     "text": [
      "Error of order 1: 0.0006545162686963392\n",
      "Error of order 2: 1.8140709617466432e-06\n",
      "Error of order 3: 2.4582510158157564e-06\n",
      "Error of order 4: 2.4582510158157564e-06\n"
     ]
    }
   ],
   "source": [
    "import numpy as np \n",
    "error_u = np.linalg.norm(u_eval - u_pred.detach())/np.linalg.norm(u_eval, 2)\n",
    "error_u2 = np.linalg.norm(u_eval - u_p2.detach())/np.linalg.norm(u_eval, 2)\n",
    "error_u3 = np.linalg.norm(u_eval - u_p3.detach())/np.linalg.norm(u_eval, 2)\n",
    "error_u4 = np.linalg.norm(u_eval - u_p3.detach())/np.linalg.norm(u_eval, 2)\n",
    "\n",
    "print(f'Error of order 1: {error_u}')\n",
    "print(f'Error of order 2: {error_u2}')\n",
    "print(f'Error of order 3: {error_u3}')\n",
    "print(f'Error of order 4: {error_u4}')"
   ]
  }
 ],
 "metadata": {
  "kernelspec": {
   "display_name": "Python 3",
   "language": "python",
   "name": "python3"
  },
  "language_info": {
   "codemirror_mode": {
    "name": "ipython",
    "version": 3
   },
   "file_extension": ".py",
   "mimetype": "text/x-python",
   "name": "python",
   "nbconvert_exporter": "python",
   "pygments_lexer": "ipython3",
   "version": "3.8.10"
  }
 },
 "nbformat": 4,
 "nbformat_minor": 2
}
