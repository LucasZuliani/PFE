{
 "cells": [
  {
   "cell_type": "code",
   "execution_count": 85,
   "metadata": {},
   "outputs": [],
   "source": [
    "import torch\n",
    "import numpy as np\n",
    "import scipy.io as sio\n",
    "import os"
   ]
  },
  {
   "cell_type": "code",
   "execution_count": 86,
   "metadata": {},
   "outputs": [
    {
     "name": "stdout",
     "output_type": "stream",
     "text": [
      "Running on the GPU\n"
     ]
    }
   ],
   "source": [
    "if torch.cuda.is_available():\n",
    "   device = torch.device(\"cuda\")\n",
    "   print(\"Running on the GPU\")\n",
    "else:\n",
    "   device = torch.device(\"cpu\")\n",
    "   print(\"Running on the CPU\")"
   ]
  },
  {
   "cell_type": "code",
   "execution_count": 87,
   "metadata": {},
   "outputs": [],
   "source": [
    "# Paramètres du modèle\n",
    "N = 2 # dim de l'input x\n",
    "m = 100 # dim de l'output y\n",
    "T = 1 # borne sup pour x\n",
    "nb_points = 100\n",
    "nb_maps = 10 # nombre d'images que l'on va générer\n",
    "nb_blocks = 2 # nombre de blocs dans le modèle"
   ]
  },
  {
   "cell_type": "code",
   "execution_count": 88,
   "metadata": {},
   "outputs": [],
   "source": [
    "def sample_points(x_dim, method=1, nb_points_omega=2000, nb_points_boundary=400):\n",
    "    if method == 1:\n",
    "        assert isinstance(nb_points_boundary//4, int)\n",
    "        in_omega = torch.rand((nb_points_omega, x_dim))\n",
    "        points_per_side = nb_points_boundary // 4\n",
    "\n",
    "        x_left, y_left = torch.zeros((points_per_side, 1)), torch.rand((points_per_side, 1))\n",
    "        x_right, y_right = torch.ones((points_per_side, 1)), torch.rand((points_per_side, 1))\n",
    "        x_bottom, y_bottom = torch.rand((points_per_side, 1)), torch.zeros((points_per_side, 1))\n",
    "        x_top, y_top = torch.rand((points_per_side, 1)), torch.ones((points_per_side, 1))\n",
    "        \n",
    "        on_boundary_x, on_boundary_y = torch.cat((x_left, x_right, x_bottom, x_top)), torch.cat((y_left, y_right, y_bottom, y_top))\n",
    "        on_boundary = torch.cat((on_boundary_x, on_boundary_y), dim=1)\n",
    "\n",
    "        boundary_mask = torch.zeros((nb_points_omega+nb_points_boundary), dtype=torch.bool)\n",
    "        boundary_mask[nb_points_omega:] = 1\n",
    "\n",
    "        return torch.cat((in_omega, on_boundary), dim=0), boundary_mask\n",
    "    else:\n",
    "        nb_subdivisions = 10\n",
    "        assert isinstance(nb_points_omega//nb_subdivisions, int)\n",
    "        assert isinstance(nb_points_boundary//4, int)\n",
    "        raise NotImplementedError\n",
    "\n",
    "def source_term(x, lhs_coeff, dim=2):\n",
    "    x = x.detach().numpy()\n",
    "    if dim == 2 :\n",
    "        x1, x2 = x[:, 0], x[:, 1]\n",
    "        alpha, beta, gamma = lhs_coeff[0]\n",
    "        source_term = alpha * np.pi**2 * (x1**2 + x2**2) * np.sin(np.pi*(x1 + beta)*(x2 + gamma))\n",
    "        return torch.Tensor(source_term)\n",
    "    else :\n",
    "        raise NotImplementedError\n",
    "\n",
    "def MC_boundary(nb_points, upper_bound):\n",
    "    assert isinstance(nb_points // 4, int)\n",
    "    random_boundary = torch.randint(0, 4, (nb_points,))\n",
    "    x = torch.zeros((nb_points, 2))\n",
    "    for idx_x, idx_boundary in enumerate(random_boundary):\n",
    "        if idx_boundary == 0:\n",
    "            x[idx_x, 0], x[idx_x, 1] = 0, torch.rand(1) * upper_bound\n",
    "        elif idx_boundary == 1:\n",
    "            x[idx_x, 0], x[idx_x, 1] = upper_bound, torch.rand(1) * upper_bound\n",
    "        elif idx_boundary == 2:\n",
    "            x[idx_x, 0], x[idx_x, 1] = torch.rand(1) * upper_bound, 0\n",
    "        else:\n",
    "            x[idx_x, 0], x[idx_x, 1] = torch.rand(1) * upper_bound, upper_bound\n",
    "    \n",
    "    return x\n",
    "\n",
    "def impose_BC(output, MC_index):\n",
    "    assert output.shape[1] == 1\n",
    "    for ind, (xi, yi) in enumerate(MC_index):\n",
    "        if xi == T:\n",
    "            output[ind] = np.cos(2 * np.pi * output[ind])\n",
    "        elif xi == 0 or yi == 0 or yi == T:\n",
    "            output[ind] = 1.\n",
    "    output = torch.Tensor(output)\n",
    "    output.requires_grad = True\n",
    "    return output"
   ]
  },
  {
   "cell_type": "code",
   "execution_count": 89,
   "metadata": {},
   "outputs": [],
   "source": [
    "X, boundary_mask = sample_points(N, 1)\n",
    "shuffle = torch.randperm(X.size(0))\n",
    "X, boundary_mask = X[shuffle], shuffle[boundary_mask]\n",
    "\n",
    "lhs_coeff = sio.loadmat('lhs_samples.mat')\n",
    "lhs_coeff = lhs_coeff['lhs_samples']\n",
    "f_X = source_term(X, lhs_coeff)\n",
    "\n",
    "X.requires_grad = True\n",
    "f_X.requires_grad = True"
   ]
  },
  {
   "cell_type": "code",
   "execution_count": 90,
   "metadata": {},
   "outputs": [],
   "source": [
    "# omega = torch.tensor([[0, 1] for _ in range(N)])\n",
    "# X = torch.zeros((nb_maps, nb_points, N), requires_grad=False)\n",
    "\n",
    "# for _ in range(nb_maps):\n",
    "#     x = torch.rand(nb_points, N, requires_grad=True) * (omega[:, 1] - omega[:, 0]) + omega[:, 0] # all the coordinates of x are between 0 and 1\n",
    "#     X[_, :, :] = x.detach().clone() # avoid in-place operation\n",
    "# X = torch.Tensor(np.expand_dims(X, axis=1))\n",
    "# X.requires_grad = True\n",
    "# print(f'La dimension de x est {x.size()}')"
   ]
  },
  {
   "cell_type": "code",
   "execution_count": 91,
   "metadata": {},
   "outputs": [],
   "source": [
    "class Block(torch.nn.Module):\n",
    "    def __init__(self, m) -> None:\n",
    "        super(Block, self).__init__()\n",
    "        self.fc = torch.nn.Linear(m, m)\n",
    "        self.activation = torch.nn.Tanh()\n",
    "        # self.activation = lambda x: torch.maximum(x**3, torch.tensor(0.))\n",
    "\n",
    "    def forward(self, x):\n",
    "        identity = x\n",
    "        x = self.fc(x)\n",
    "        x = self.activation(x)\n",
    "        x = self.fc(x)\n",
    "        x = self.activation(x)\n",
    "        return x + identity\n",
    "    \n",
    "class Model(torch.nn.Module):\n",
    "    def __init__(self, N, m, nb_blocks) -> None:\n",
    "        super(Model, self).__init__()\n",
    "        self.fc_in = torch.nn.Linear(N, m)\n",
    "        self.blocks = torch.nn.ModuleList([Block(m) for _ in range(nb_blocks)])\n",
    "        self.fc_out = torch.nn.Linear(m, 1)\n",
    "\n",
    "    def forward(self, x):\n",
    "        x = self.fc_in(x)\n",
    "        for block in self.blocks:\n",
    "            x = block(x)\n",
    "        x = self.fc_out(x)\n",
    "        return x"
   ]
  },
  {
   "cell_type": "code",
   "execution_count": 92,
   "metadata": {},
   "outputs": [],
   "source": [
    "def conv(x : torch.Tensor, dx = True, delta : float = 1/nb_points) -> torch.Tensor:\n",
    "    if dx:\n",
    "        convx = torch.zeros(x.shape)\n",
    "        for i in range(x.shape[0]):\n",
    "            for j in range(x.shape[1]):\n",
    "                if j == 0 :\n",
    "                    convx[i, j] = (x[i, j+1] - x[i, j])/delta # forward \n",
    "                elif j == x.shape[1] - 1:\n",
    "                    convx[i, j] = (x[i, j] - x[i, j-1])/delta # backward\n",
    "                else:\n",
    "                    convx[i, j] = (x[i, j+1] - x[i, j-1])/(2*delta) # central\n",
    "        return convx\n",
    "    else:\n",
    "        convy = torch.zeros(x.shape)\n",
    "        for i in range(x.shape[0]):\n",
    "            for j in range(x.shape[1]):\n",
    "                if i == 0 :\n",
    "                    convy[i, j] = (x[i+1, j] - x[i, j])/delta # forward\n",
    "                elif i == x.shape[0] - 1:\n",
    "                    convy[i, j] = (x[i, j] - x[i-1, j])/delta # backward\n",
    "                else:\n",
    "                    convy[i, j] = (x[i+1, j] - x[i-1, j])/(2*delta) # central\n",
    "        return convy"
   ]
  },
  {
   "cell_type": "code",
   "execution_count": 93,
   "metadata": {},
   "outputs": [],
   "source": [
    "# source_term = sio.loadmat('source_term.mat')\n",
    "u = sio.loadmat('u.mat')\n",
    "\n",
    "# source_term = torch.Tensor(np.expand_dims(source_term['source_term'], axis=1))\n",
    "u = torch.Tensor(np.expand_dims(u['u'], axis=1))"
   ]
  },
  {
   "cell_type": "code",
   "execution_count": 94,
   "metadata": {},
   "outputs": [
    {
     "name": "stdout",
     "output_type": "stream",
     "text": [
      "torch.Size([10, 1, 100, 100])\n"
     ]
    }
   ],
   "source": [
    "import matplotlib.pyplot as plt\n",
    "print(u.shape)\n",
    "# plt.imshow(source_term[0, 0, :])\n",
    "# plt.colorbar()"
   ]
  },
  {
   "cell_type": "code",
   "execution_count": 95,
   "metadata": {},
   "outputs": [
    {
     "name": "stdout",
     "output_type": "stream",
     "text": [
      "torch.Size([2400])\n",
      "torch.Size([2400, 2])\n"
     ]
    }
   ],
   "source": [
    "print(f_X.shape)\n",
    "print(X.shape)"
   ]
  },
  {
   "cell_type": "code",
   "execution_count": 96,
   "metadata": {},
   "outputs": [],
   "source": [
    "batch_size = 80\n",
    "M_omega, M_boundary = 2000, 100\n",
    "dataset = torch.utils.data.TensorDataset(X)\n",
    "dataLoader = torch.utils.data.DataLoader(dataset, batch_size=batch_size, shuffle=True)\n",
    "num_epochs = 100"
   ]
  },
  {
   "cell_type": "code",
   "execution_count": 97,
   "metadata": {},
   "outputs": [],
   "source": [
    "lr = 1e-4\n",
    "beta_1 = 0.5\n",
    "beta_2 = 0.999\n",
    "gamma = 500\n",
    "\n",
    "gen = Model(N, m, nb_blocks)\n",
    "gen_opt = torch.optim.Adam(gen.parameters(), lr=lr, betas=(beta_1, beta_2))\n",
    "loss_per_epoch = []\n",
    "loss_terms_per_epoch = []\n",
    "# source_term_0 = source_term[0, 0, :, :]\n",
    "\n",
    "\n",
    "for epoch in range(num_epochs):\n",
    "    loss_per_batch = []\n",
    "    loss_terms_per_batch = []\n",
    "    for x in dataLoader : \n",
    "        gen.train()\n",
    "        output = gen(x[0])\n",
    "        \n",
    "        gen.eval()\n",
    "        # Monte Carlo\n",
    "        mc_omega_x, mc_omega_y = torch.rand(M_omega) * (T - 1e-6), torch.rand(M_omega) * (T - 1e-6)\n",
    "        mc_omega = torch.stack((mc_omega_x, mc_omega_y), dim=1)\n",
    "        mc_omega.requires_grad = True\n",
    "        output_mc = gen(mc_omega)\n",
    "        source_term_mc = source_term(mc_omega, lhs_coeff)\n",
    "        grad_output_mc = torch.ones_like(output_mc)\n",
    "        grad_output_mc = torch.autograd.grad(output_mc, mc_omega, grad_output_mc, create_graph=True, retain_graph=True)[0]\n",
    "        \n",
    "        mc_index_boundary = MC_boundary(M_boundary, T)\n",
    "        output_mc_boundary = gen(mc_index_boundary)\n",
    "        output_mc_boundary = impose_BC(output_mc_boundary.detach().numpy(), mc_index_boundary)\n",
    "        # source_term_mc = src[mc_index, :]\n",
    "        # output_dx, output_dy = conv(output_mc), conv(output_mc, dx = False)\n",
    "        # L1, L2 = torch.pow(output_dx, 2), torch.pow(output_dy, 2)\n",
    "        # L1, L2 = torch.mean(L1), torch.mean(L2)\n",
    "\n",
    "        L1 = torch.mean(grad_output_mc.square())\n",
    "        L2 = torch.mean(source_term_mc*output_mc)\n",
    "        L3 = torch.mean(output_mc_boundary)\n",
    "        loss_terms_per_batch.append([L1.item(), L2.item(), L3.item()])\n",
    "\n",
    "        loss = 0.5*L1 - L2 - gamma/2*L3\n",
    "        loss_per_batch.append(loss.item())\n",
    "\n",
    "        gen_opt.zero_grad()\n",
    "        loss.backward()\n",
    "        gen_opt.step()\n",
    "\n",
    "    loss_terms_per_epoch.append(np.mean(loss_terms_per_batch, axis=0))\n",
    "    loss_per_epoch.append(np.mean(loss_per_batch))"
   ]
  },
  {
   "cell_type": "code",
   "execution_count": 98,
   "metadata": {},
   "outputs": [
    {
     "data": {
      "text/plain": [
       "<matplotlib.colorbar.Colorbar at 0x7fd988bde250>"
      ]
     },
     "execution_count": 98,
     "metadata": {},
     "output_type": "execute_result"
    },
    {
     "data": {
      "image/png": "[encoded data removed]",
      "text/plain": [
       "<Figure size 640x480 with 2 Axes>"
      ]
     },
     "metadata": {},
     "output_type": "display_data"
    }
   ],
   "source": [
    "x, y = torch.linspace(0, T, 100), torch.linspace(0, T, 100)\n",
    "grid = torch.cartesian_prod(x, y)\n",
    "gen.eval()\n",
    "output = gen(grid)\n",
    "plt.imshow(output.detach().numpy().reshape(100, 100))\n",
    "plt.colorbar()\n"
   ]
  },
  {
   "cell_type": "code",
   "execution_count": 99,
   "metadata": {},
   "outputs": [
    {
     "ename": "TypeError",
     "evalue": "list indices must be integers or slices, not tuple",
     "output_type": "error",
     "traceback": [
      "\u001b[0;31m---------------------------------------------------------------------------\u001b[0m",
      "\u001b[0;31mTypeError\u001b[0m                                 Traceback (most recent call last)",
      "Cell \u001b[0;32mIn [99], line 1\u001b[0m\n\u001b[0;32m----> 1\u001b[0m plt\u001b[38;5;241m.\u001b[39mplot(\u001b[43mloss_terms_per_epoch\u001b[49m\u001b[43m[\u001b[49m\u001b[38;5;241;43m0\u001b[39;49m\u001b[43m,\u001b[49m\u001b[43m \u001b[49m\u001b[43m:\u001b[49m\u001b[43m]\u001b[49m, label\u001b[38;5;241m=\u001b[39m\u001b[38;5;124m'\u001b[39m\u001b[38;5;124mgradient\u001b[39m\u001b[38;5;124m'\u001b[39m)\n\u001b[1;32m      2\u001b[0m plt\u001b[38;5;241m.\u001b[39mplot(loss_terms_per_epoch[\u001b[38;5;241m1\u001b[39m, :], label\u001b[38;5;241m=\u001b[39m\u001b[38;5;124m'\u001b[39m\u001b[38;5;124msource*u\u001b[39m\u001b[38;5;124m'\u001b[39m)\n\u001b[1;32m      3\u001b[0m plt\u001b[38;5;241m.\u001b[39mplot(loss_terms_per_epoch[\u001b[38;5;241m2\u001b[39m, :], label\u001b[38;5;241m=\u001b[39m\u001b[38;5;124m'\u001b[39m\u001b[38;5;124mboundary\u001b[39m\u001b[38;5;124m'\u001b[39m)\n",
      "\u001b[0;31mTypeError\u001b[0m: list indices must be integers or slices, not tuple"
     ]
    }
   ],
   "source": [
    "plt.plot(loss_terms_per_epoch[0, :], label='gradient')\n",
    "plt.plot(loss_terms_per_epoch[1, :], label='source*u')\n",
    "plt.plot(loss_terms_per_epoch[2, :], label='boundary')\n",
    "plt.legend()\n",
    "plt.show()"
   ]
  },
  {
   "cell_type": "code",
   "execution_count": 80,
   "metadata": {},
   "outputs": [
    {
     "data": {
      "text/plain": [
       "[<matplotlib.lines.Line2D at 0x7fd988cb85e0>]"
      ]
     },
     "execution_count": 80,
     "metadata": {},
     "output_type": "execute_result"
    },
    {
     "data": {
      "image/png": "[encoded data removed]",
      "text/plain": [
       "<Figure size 640x480 with 1 Axes>"
      ]
     },
     "metadata": {},
     "output_type": "display_data"
    }
   ],
   "source": [
    "gen.eval()\n",
    "# # print(np.linalg.norm(gen(X[0, 0, :, :]).detach().numpy() - source_term[0, 0, :, :].detach().numpy()))\n",
    "# fig, axs = plt.subplots(1, 2, figsize=(10, 4))\n",
    "# pred = axs[0].imshow(gen(X).detach().numpy().reshape(100, 100))\n",
    "# axs[0].set_title('Prediction')\n",
    "# plt.colorbar(pred, ax=axs[0])\n",
    "# true = axs[1].imshow(u[0, 0, :, :].detach().numpy())\n",
    "# axs[1].set_title('True')\n",
    "# plt.colorbar(true, ax=axs[1])\n",
    "\n",
    "# plt.tight_layout()\n",
    "# plt.show()\n",
    "\n",
    "plt.plot(loss_per_epoch)\n",
    "# print(np.linalg.norm(output - source_term[0, 0, :, :]))"
   ]
  }
 ],
 "metadata": {
  "kernelspec": {
   "display_name": "Python 3",
   "language": "python",
   "name": "python3"
  },
  "language_info": {
   "codemirror_mode": {
    "name": "ipython",
    "version": 3
   },
   "file_extension": ".py",
   "mimetype": "text/x-python",
   "name": "python",
   "nbconvert_exporter": "python",
   "pygments_lexer": "ipython3",
   "version": "3.8.10"
  }
 },
 "nbformat": 4,
 "nbformat_minor": 2
}
