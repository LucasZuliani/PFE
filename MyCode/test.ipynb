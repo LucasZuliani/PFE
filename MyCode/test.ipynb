{
 "cells": [
  {
   "cell_type": "code",
   "execution_count": 119,
   "metadata": {},
   "outputs": [],
   "source": [
    "import torch\n",
    "import numpy as np\n",
    "import scipy.io as sio\n",
    "import os"
   ]
  },
  {
   "cell_type": "code",
   "execution_count": 120,
   "metadata": {},
   "outputs": [
    {
     "name": "stdout",
     "output_type": "stream",
     "text": [
      "Running on the GPU\n"
     ]
    }
   ],
   "source": [
    "if torch.cuda.is_available():\n",
    "   device = torch.device(\"cuda\")\n",
    "   print(\"Running on the GPU\")\n",
    "else:\n",
    "    device = torch.device(\"cpu\")\n",
    "    print(\"Running on the CPU\")"
   ]
  },
  {
   "cell_type": "code",
   "execution_count": 121,
   "metadata": {},
   "outputs": [],
   "source": [
    "# Paramètres du modèle\n",
    "N = 2 # dim de l'input x\n",
    "m = 10 # dim de l'output y\n",
    "T = 1 # borne sup pour x\n",
    "nb_points = 10 \n",
    "nb_maps = 100 # nombre d'images que l'on va générer\n",
    "nb_blocks = 2 # nombre de blocs dans le modèle\n",
    "M = 10 # nombre d'échantillons pour l'approximation de Monte Carlo"
   ]
  },
  {
   "cell_type": "code",
   "execution_count": 122,
   "metadata": {},
   "outputs": [
    {
     "name": "stdout",
     "output_type": "stream",
     "text": [
      "La dimension de x est torch.Size([10, 2])\n"
     ]
    }
   ],
   "source": [
    "omega = torch.tensor([[0, 1] for _ in range(N)])\n",
    "X = torch.zeros((nb_maps, nb_points, N))\n",
    "\n",
    "for _ in range(nb_maps):\n",
    "    x = torch.rand(nb_points, N) * (omega[:, 1] - omega[:, 0]) + omega[:, 0] # all the coordinates of x are between 0 and 1\n",
    "    X[_, :, :] = x\n",
    "X = torch.Tensor(np.expand_dims(X, axis=1))\n",
    "print(f'La dimension de x est {x.size()}')"
   ]
  },
  {
   "cell_type": "code",
   "execution_count": 157,
   "metadata": {},
   "outputs": [],
   "source": [
    "class Block(torch.nn.Module):\n",
    "    def __init__(self, m) -> None:\n",
    "        super(Block, self).__init__()\n",
    "        self.fc = torch.nn.Linear(m, m)\n",
    "        self.activation = torch.nn.Tanh()\n",
    "\n",
    "    def forward(self, x):\n",
    "        identity = x\n",
    "        x = self.fc(x)\n",
    "        x = self.activation(x)\n",
    "        x = self.fc(x)\n",
    "        x = self.activation(x)\n",
    "        return x + identity\n",
    "    \n",
    "class Model(torch.nn.Module):\n",
    "    def __init__(self, N, m, nb_blocks) -> None:\n",
    "        super(Model, self).__init__()\n",
    "        self.fc_in = torch.nn.Linear(N, m)\n",
    "        self.blocks = torch.nn.ModuleList([Block(m) for _ in range(nb_blocks)])\n",
    "\n",
    "    def forward(self, x):\n",
    "        x = self.fc_in(x)\n",
    "        for block in self.blocks:\n",
    "            x = block(x)\n",
    "        return x"
   ]
  },
  {
   "cell_type": "code",
   "execution_count": 124,
   "metadata": {},
   "outputs": [],
   "source": [
    "def conv(x : torch.Tensor, dx = True, delta : float = 1/nb_points) -> torch.Tensor:\n",
    "    if dx:\n",
    "        convx = torch.zeros(x.shape)\n",
    "        for i in range(x.shape[0]):\n",
    "            for j in range(x.shape[1]):\n",
    "                if j == 0 :\n",
    "                    convx[i, j] = (x[i, j+1] - x[i, j])/delta # forward \n",
    "                elif j == x.shape[1] - 1:\n",
    "                    convx[i, j] = (x[i, j] - x[i, j-1])/delta # backward\n",
    "                else:\n",
    "                    convx[i, j] = (x[i, j+1] - x[i, j-1])/(2*delta) # central\n",
    "        return convx\n",
    "    else:\n",
    "        convy = torch.zeros(x.shape)\n",
    "        for i in range(x.shape[0]):\n",
    "            for j in range(x.shape[1]):\n",
    "                if i == 0 :\n",
    "                    convy[i, j] = (x[i+1, j] - x[i, j])/delta # forward\n",
    "                elif i == x.shape[0] - 1:\n",
    "                    convy[i, j] = (x[i, j] - x[i-1, j])/delta # backward\n",
    "                else:\n",
    "                    convy[i, j] = (x[i+1, j] - x[i-1, j])/(2*delta) # central\n",
    "        return convy"
   ]
  },
  {
   "cell_type": "code",
   "execution_count": 125,
   "metadata": {},
   "outputs": [
    {
     "name": "stdout",
     "output_type": "stream",
     "text": [
      "torch.Size([100, 1, 10, 10])\n"
     ]
    }
   ],
   "source": [
    "import scipy.io as sio\n",
    "source_term = sio.loadmat('source_term.mat')\n",
    "u = sio.loadmat('u.mat')\n",
    "\n",
    "source_term = torch.Tensor(np.expand_dims(source_term['source_term'], axis=1))\n",
    "u = torch.Tensor(np.expand_dims(u['u'], axis=1))"
   ]
  },
  {
   "cell_type": "code",
   "execution_count": 167,
   "metadata": {},
   "outputs": [
    {
     "data": {
      "text/plain": [
       "<matplotlib.image.AxesImage at 0x7f48303550a0>"
      ]
     },
     "execution_count": 167,
     "metadata": {},
     "output_type": "execute_result"
    },
    {
     "data": {
      "image/png": "[encoded data removed]",
      "text/plain": [
       "<Figure size 640x480 with 1 Axes>"
      ]
     },
     "metadata": {},
     "output_type": "display_data"
    }
   ],
   "source": [
    "import matplotlib.pyplot as plt\n",
    "plt.imshow(source_term[0, 0, :, :])"
   ]
  },
  {
   "cell_type": "code",
   "execution_count": 178,
   "metadata": {},
   "outputs": [
    {
     "name": "stdout",
     "output_type": "stream",
     "text": [
      "Loss : 11.565750122070312\n",
      "Loss : 11.506061553955078\n",
      "Loss : 11.44660758972168\n",
      "Loss : 11.387394905090332\n",
      "Loss : 11.328448295593262\n",
      "Loss : 11.269776344299316\n",
      "Loss : 11.211383819580078\n",
      "Loss : 11.153276443481445\n",
      "Loss : 11.095452308654785\n",
      "Loss : 11.037917137145996\n",
      "Loss : 10.980667114257812\n",
      "Loss : 10.923702239990234\n",
      "Loss : 10.867021560668945\n",
      "Loss : 10.810625076293945\n",
      "Loss : 10.754510879516602\n",
      "Loss : 10.698674201965332\n",
      "Loss : 10.64311408996582\n",
      "Loss : 10.587831497192383\n",
      "Loss : 10.53282356262207\n",
      "Loss : 10.478086471557617\n",
      "Loss : 10.423620223999023\n",
      "Loss : 10.369421005249023\n",
      "Loss : 10.315491676330566\n",
      "Loss : 10.261826515197754\n",
      "Loss : 10.208429336547852\n",
      "Loss : 10.155292510986328\n",
      "Loss : 10.102416038513184\n",
      "Loss : 10.04980182647705\n",
      "Loss : 9.997446060180664\n",
      "Loss : 9.94534969329834\n",
      "Loss : 9.893509864807129\n",
      "Loss : 9.841925621032715\n",
      "Loss : 9.790596008300781\n",
      "Loss : 9.739521980285645\n",
      "Loss : 9.688697814941406\n",
      "Loss : 9.6381254196167\n",
      "Loss : 9.58780288696289\n",
      "Loss : 9.537729263305664\n",
      "Loss : 9.48790454864502\n",
      "Loss : 9.438326835632324\n",
      "Loss : 9.388992309570312\n",
      "Loss : 9.339902877807617\n",
      "Loss : 9.291057586669922\n",
      "Loss : 9.242452621459961\n",
      "Loss : 9.194089889526367\n",
      "Loss : 9.145966529846191\n",
      "Loss : 9.098081588745117\n",
      "Loss : 9.050433158874512\n",
      "Loss : 9.003021240234375\n",
      "Loss : 8.955842971801758\n",
      "Loss : 8.90889835357666\n",
      "Loss : 8.862186431884766\n",
      "Loss : 8.815706253051758\n",
      "Loss : 8.769454002380371\n",
      "Loss : 8.723433494567871\n",
      "Loss : 8.677638053894043\n",
      "Loss : 8.632071495056152\n",
      "Loss : 8.586727142333984\n",
      "Loss : 8.541608810424805\n",
      "Loss : 8.496713638305664\n",
      "Loss : 8.452037811279297\n",
      "Loss : 8.407585144042969\n",
      "Loss : 8.363351821899414\n",
      "Loss : 8.3193359375\n",
      "Loss : 8.275538444519043\n",
      "Loss : 8.23195743560791\n",
      "Loss : 8.188591003417969\n",
      "Loss : 8.145438194274902\n",
      "Loss : 8.102499008178711\n",
      "Loss : 8.059771537780762\n",
      "Loss : 8.017253875732422\n",
      "Loss : 7.974947452545166\n",
      "Loss : 7.932848930358887\n",
      "Loss : 7.890957832336426\n",
      "Loss : 7.849273681640625\n",
      "Loss : 7.807794570922852\n",
      "Loss : 7.766519546508789\n",
      "Loss : 7.725449562072754\n",
      "Loss : 7.684579849243164\n",
      "Loss : 7.643913269042969\n",
      "Loss : 7.603447914123535\n",
      "Loss : 7.563179969787598\n",
      "Loss : 7.523111820220947\n",
      "Loss : 7.483241081237793\n",
      "Loss : 7.44356632232666\n",
      "Loss : 7.404086112976074\n",
      "Loss : 7.364800930023193\n",
      "Loss : 7.325709342956543\n",
      "Loss : 7.286810398101807\n",
      "Loss : 7.248103141784668\n",
      "Loss : 7.209586143493652\n",
      "Loss : 7.171261310577393\n",
      "Loss : 7.133122444152832\n",
      "Loss : 7.095172882080078\n",
      "Loss : 7.057408809661865\n",
      "Loss : 7.019830226898193\n",
      "Loss : 6.982439041137695\n",
      "Loss : 6.945228576660156\n",
      "Loss : 6.908205032348633\n",
      "Loss : 6.871362209320068\n"
     ]
    },
    {
     "data": {
      "image/png": "[encoded data removed]",
      "text/plain": [
       "<Figure size 640x480 with 1 Axes>"
      ]
     },
     "metadata": {},
     "output_type": "display_data"
    }
   ],
   "source": [
    "# Code simple pour une seule image\n",
    "lr = 1e-4\n",
    "beta_1 = 0.5\n",
    "beta_2 = 0.999\n",
    "\n",
    "gen = Model(N, m, nb_blocks)\n",
    "gen_opt = torch.optim.Adam(gen.parameters(), lr=lr, betas=(beta_1, beta_2))\n",
    "source_term_0 = source_term[0, 0, :, :]\n",
    "\n",
    "cur_steps = 0\n",
    "# Monte Carlo\n",
    "# for _ in range(10) :\n",
    "while cur_steps < 100:\n",
    "    gen_opt.zero_grad()\n",
    "\n",
    "    output = gen(x)\n",
    "    output_dx, output_dy = conv(output), conv(output, dx = False)\n",
    "    L1, L2 = torch.pow(output_dx, 2), torch.pow(output_dy, 2)\n",
    "    L1, L2 = torch.sum(L1)/(L1.shape[0]*L1.shape[1]), torch.sum(L2)/(L2.shape[0]*L2.shape[1])\n",
    "    L3 = torch.sum(source_term_0*output) / (source_term_0.shape[0]*source_term_0.shape[1])\n",
    "\n",
    "    loss = (L1 + L2)/2 - L3\n",
    "    loss.backward()\n",
    "    gen_opt.step()\n",
    "    cur_steps += 1\n",
    "    print(f'Loss : {loss}')\n",
    "plt.imshow(output.detach().numpy())\n",
    "plt.show()"
   ]
  },
  {
   "cell_type": "code",
   "execution_count": 179,
   "metadata": {},
   "outputs": [
    {
     "data": {
      "text/plain": [
       "<matplotlib.colorbar.Colorbar at 0x7f47e89d4370>"
      ]
     },
     "execution_count": 179,
     "metadata": {},
     "output_type": "execute_result"
    },
    {
     "data": {
      "image/png": "[encoded data removed]",
      "text/plain": [
       "<Figure size 640x480 with 2 Axes>"
      ]
     },
     "metadata": {},
     "output_type": "display_data"
    }
   ],
   "source": [
    "plt.imshow(np.abs(u[0, 0, :, :] - output.detach().numpy()))\n",
    "plt.colorbar()"
   ]
  },
  {
   "cell_type": "code",
   "execution_count": 96,
   "metadata": {},
   "outputs": [
    {
     "name": "stdout",
     "output_type": "stream",
     "text": [
      "torch.Size([100, 1, 10, 10])\n"
     ]
    }
   ],
   "source": [
    "gen = Model(N, m, nb_blocks)\n",
    "output = gen(X)\n",
    "output_dX, output_dY = torch.zeros(output.shape), torch.zeros(output.shape)\n",
    "\n",
    "for i, out in enumerate(output) :\n",
    "    output_dx, output_dy = conv(out[0]), conv(out[0], dx = False)\n",
    "    output_dx, output_dy = output_dx.expand(1, 1, -1, -1), output_dy.expand(1, 1, -1, -1)\n",
    "    output_dX[i, :, :, :], output_dY[i, :, :, :] = output_dx, output_dy\n",
    "    \n",
    "L1, L2 = torch.pow(output_dX, 2)/2, torch.pow(output_dY, 2)/2\n",
    "# gen_opt = torch.optim.Adam(gen.parameters(), lr=1e-4)"
   ]
  }
 ],
 "metadata": {
  "kernelspec": {
   "display_name": "Python 3",
   "language": "python",
   "name": "python3"
  },
  "language_info": {
   "codemirror_mode": {
    "name": "ipython",
    "version": 3
   },
   "file_extension": ".py",
   "mimetype": "text/x-python",
   "name": "python",
   "nbconvert_exporter": "python",
   "pygments_lexer": "ipython3",
   "version": "3.8.10"
  }
 },
 "nbformat": 4,
 "nbformat_minor": 2
}
