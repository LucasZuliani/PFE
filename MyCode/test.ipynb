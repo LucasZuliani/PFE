{
 "cells": [
  {
   "cell_type": "code",
   "execution_count": 203,
   "metadata": {},
   "outputs": [],
   "source": [
    "import torch\n",
    "import numpy as np\n",
    "import scipy.io as sio\n",
    "import os"
   ]
  },
  {
   "cell_type": "code",
   "execution_count": 204,
   "metadata": {},
   "outputs": [
    {
     "name": "stdout",
     "output_type": "stream",
     "text": [
      "Running on the GPU\n"
     ]
    }
   ],
   "source": [
    "if torch.cuda.is_available():\n",
    "   device = torch.device(\"cuda\")\n",
    "   print(\"Running on the GPU\")\n",
    "else:\n",
    "    device = torch.device(\"cpu\")\n",
    "    print(\"Running on the CPU\")"
   ]
  },
  {
   "cell_type": "code",
   "execution_count": 205,
   "metadata": {},
   "outputs": [],
   "source": [
    "# Paramètres du modèle\n",
    "N = 2 # dim de l'input x\n",
    "m = 10 # dim de l'output y\n",
    "T = 1 # borne sup pour x\n",
    "nb_points = 10 \n",
    "nb_maps = 100 # nombre d'images que l'on va générer\n",
    "nb_blocks = 2 # nombre de blocs dans le modèle\n",
    "M = 10 # nombre d'échantillons pour l'approximation de Monte Carlo"
   ]
  },
  {
   "cell_type": "code",
   "execution_count": 206,
   "metadata": {},
   "outputs": [
    {
     "name": "stdout",
     "output_type": "stream",
     "text": [
      "La dimension de x est torch.Size([10, 2])\n"
     ]
    }
   ],
   "source": [
    "omega = torch.tensor([[0, 1] for _ in range(N)])\n",
    "X = torch.zeros((nb_maps, nb_points, N), requires_grad=False)\n",
    "\n",
    "for _ in range(nb_maps):\n",
    "    x = torch.rand(nb_points, N, requires_grad=True) * (omega[:, 1] - omega[:, 0]) + omega[:, 0] # all the coordinates of x are between 0 and 1\n",
    "    X[_, :, :] = x.detach().clone() # avoid in-place operation\n",
    "X = torch.Tensor(np.expand_dims(X, axis=1))\n",
    "X.requires_grad = True\n",
    "print(f'La dimension de x est {x.size()}')"
   ]
  },
  {
   "cell_type": "code",
   "execution_count": 207,
   "metadata": {},
   "outputs": [],
   "source": [
    "class Block(torch.nn.Module):\n",
    "    def __init__(self, m) -> None:\n",
    "        super(Block, self).__init__()\n",
    "        self.fc = torch.nn.Linear(m, m)\n",
    "        self.activation = torch.nn.Tanh()\n",
    "\n",
    "    def forward(self, x):\n",
    "        identity = x\n",
    "        x = self.fc(x)\n",
    "        x = self.activation(x)\n",
    "        x = self.fc(x)\n",
    "        x = self.activation(x)\n",
    "        return x + identity\n",
    "    \n",
    "class Model(torch.nn.Module):\n",
    "    def __init__(self, N, m, nb_blocks) -> None:\n",
    "        super(Model, self).__init__()\n",
    "        self.fc_in = torch.nn.Linear(N, m)\n",
    "        self.blocks = torch.nn.ModuleList([Block(m) for _ in range(nb_blocks)])\n",
    "        self.fc_out = torch.nn.Linear(m, m)\n",
    "\n",
    "    def forward(self, x):\n",
    "        x = self.fc_in(x)\n",
    "        for block in self.blocks:\n",
    "            x = block(x)\n",
    "        x = self.fc_out(x)\n",
    "        return x"
   ]
  },
  {
   "cell_type": "code",
   "execution_count": 208,
   "metadata": {},
   "outputs": [],
   "source": [
    "def conv(x : torch.Tensor, dx = True, delta : float = 1/nb_points) -> torch.Tensor:\n",
    "    if dx:\n",
    "        convx = torch.zeros(x.shape)\n",
    "        for i in range(x.shape[0]):\n",
    "            for j in range(x.shape[1]):\n",
    "                if j == 0 :\n",
    "                    convx[i, j] = (x[i, j+1] - x[i, j])/delta # forward \n",
    "                elif j == x.shape[1] - 1:\n",
    "                    convx[i, j] = (x[i, j] - x[i, j-1])/delta # backward\n",
    "                else:\n",
    "                    convx[i, j] = (x[i, j+1] - x[i, j-1])/(2*delta) # central\n",
    "        return convx\n",
    "    else:\n",
    "        convy = torch.zeros(x.shape)\n",
    "        for i in range(x.shape[0]):\n",
    "            for j in range(x.shape[1]):\n",
    "                if i == 0 :\n",
    "                    convy[i, j] = (x[i+1, j] - x[i, j])/delta # forward\n",
    "                elif i == x.shape[0] - 1:\n",
    "                    convy[i, j] = (x[i, j] - x[i-1, j])/delta # backward\n",
    "                else:\n",
    "                    convy[i, j] = (x[i+1, j] - x[i-1, j])/(2*delta) # central\n",
    "        return convy\n",
    "        \n",
    "# def impose_BC(x : torch.Tensor) -> torch.Tensor:\n",
    "#     x[:, -1] = torch.Tensor(np.cos(2 * np.pi * x[-1, :].detach().numpy()))\n",
    "#     x[:, 0], x[0, :-1], x[-1, :-1] = 1., 1., 1.\n",
    "#     return x"
   ]
  },
  {
   "cell_type": "code",
   "execution_count": 209,
   "metadata": {},
   "outputs": [],
   "source": [
    "source_term = sio.loadmat('source_term.mat')\n",
    "u = sio.loadmat('u.mat')\n",
    "\n",
    "source_term = torch.Tensor(np.expand_dims(source_term['source_term'], axis=1))\n",
    "u = torch.Tensor(np.expand_dims(u['u'], axis=1))"
   ]
  },
  {
   "cell_type": "code",
   "execution_count": 223,
   "metadata": {},
   "outputs": [
    {
     "data": {
      "text/plain": [
       "<matplotlib.image.AxesImage at 0x7f52cc986130>"
      ]
     },
     "execution_count": 223,
     "metadata": {},
     "output_type": "execute_result"
    },
    {
     "data": {
      "image/png": "[encoded data removed]",
      "text/plain": [
       "<Figure size 640x480 with 1 Axes>"
      ]
     },
     "metadata": {},
     "output_type": "display_data"
    }
   ],
   "source": [
    "import matplotlib.pyplot as plt\n",
    "plt.imshow(source_term[0, 0, :, :])"
   ]
  },
  {
   "cell_type": "code",
   "execution_count": 217,
   "metadata": {},
   "outputs": [],
   "source": [
    "batch_size = 2\n",
    "dataset = torch.utils.data.TensorDataset(X[0, 0, :, :], source_term[0, 0, :, :])\n",
    "dataLoader = torch.utils.data.DataLoader(dataset, batch_size=batch_size, shuffle=True)\n",
    "num_epochs = 1000"
   ]
  },
  {
   "cell_type": "code",
   "execution_count": 224,
   "metadata": {},
   "outputs": [
    {
     "name": "stdout",
     "output_type": "stream",
     "text": [
      "226.00674\n"
     ]
    },
    {
     "data": {
      "image/png": "[encoded data removed]",
      "text/plain": [
       "<Figure size 640x480 with 2 Axes>"
      ]
     },
     "metadata": {},
     "output_type": "display_data"
    }
   ],
   "source": [
    "# Code simple pour une seule image\n",
    "lr = 1e-4\n",
    "beta_1 = 0.5\n",
    "beta_2 = 0.999\n",
    "\n",
    "gen = Model(N, m, nb_blocks)\n",
    "gen_opt = torch.optim.Adam(gen.parameters(), lr=lr, betas=(beta_1, beta_2))\n",
    "source_term_0 = impose_BC(source_term[0, 0, :, :])\n",
    "\n",
    "cur_steps = 0\n",
    "\n",
    "# output = gen(torch.rand(nb_points, N, requires_grad=True))\n",
    "\n",
    "# while np.linalg.norm(output.detach().numpy() - source_term[0, 0, :, :].detach().numpy()) > 1e-1:\n",
    "for epoch in range(num_epochs):\n",
    "    gen.train()\n",
    "    for x, source_term_0 in dataLoader : \n",
    "        output = gen(x)\n",
    "        grad_output = torch.ones_like(output)\n",
    "        grad_output = torch.autograd.grad(output, x, grad_output, create_graph=True, retain_graph=True)[0]\n",
    "\n",
    "        # Monte Carlo\n",
    "        mc_index = torch.randperm(2)[:M]\n",
    "        output_mc = output[mc_index, :]\n",
    "        source_term_mc = source_term_0[mc_index, :]\n",
    "        grad_output_mc = grad_output[mc_index, :]\n",
    "\n",
    "        # output_dx, output_dy = conv(output_mc), conv(output_mc, dx = False)\n",
    "        # L1, L2 = torch.pow(output_dx, 2), torch.pow(output_dy, 2)\n",
    "        # L1, L2 = torch.mean(L1), torch.mean(L2)\n",
    "        L1 = torch.mean(grad_output_mc.square())\n",
    "        L2 = torch.mean(source_term_mc*output_mc)\n",
    "        \n",
    "        loss = 0.5*L1 - L2\n",
    "        \n",
    "        gen_opt.zero_grad()\n",
    "        loss.backward()\n",
    "        gen_opt.step()\n",
    "    gen.eval()\n",
    "    cur_steps += 1\n",
    "\n",
    "print(np.linalg.norm(gen(X[0, 0, :, :]).detach().numpy() - source_term[0, 0, :, :].detach().numpy()))\n",
    "\n",
    "plt.imshow(gen(X[0, 0, :, :]).detach().numpy())\n",
    "plt.colorbar()\n",
    "plt.show()\n",
    "# print(np.linalg.norm(output - source_term[0, 0, :, :]))"
   ]
  },
  {
   "cell_type": "code",
   "execution_count": null,
   "metadata": {},
   "outputs": [
    {
     "name": "stdout",
     "output_type": "stream",
     "text": [
      "764.7393\n",
      "764.7283\n",
      "764.7172\n",
      "764.7063\n",
      "764.6954\n",
      "764.6844\n",
      "764.6736\n",
      "764.6628\n",
      "764.652\n",
      "764.6411\n",
      "764.6304\n",
      "764.6196\n",
      "764.60895\n",
      "764.59827\n",
      "764.58765\n",
      "764.577\n",
      "764.5664\n",
      "764.55585\n",
      "764.5452\n",
      "764.5347\n",
      "764.52423\n",
      "764.5138\n",
      "764.5033\n",
      "764.49274\n",
      "764.48236\n"
     ]
    },
    {
     "ename": "KeyboardInterrupt",
     "evalue": "",
     "output_type": "error",
     "traceback": [
      "\u001b[0;31m---------------------------------------------------------------------------\u001b[0m",
      "\u001b[0;31mKeyboardInterrupt\u001b[0m                         Traceback (most recent call last)",
      "Cell \u001b[0;32mIn [34], line 30\u001b[0m\n\u001b[1;32m     27\u001b[0m L3 \u001b[38;5;241m=\u001b[39m torch\u001b[38;5;241m.\u001b[39msum(source_term\u001b[38;5;241m*\u001b[39moutput) \u001b[38;5;241m/\u001b[39m (source_term\u001b[38;5;241m.\u001b[39mshape[\u001b[38;5;241m0\u001b[39m]\u001b[38;5;241m*\u001b[39msource_term\u001b[38;5;241m.\u001b[39mshape[\u001b[38;5;241m1\u001b[39m])\n\u001b[1;32m     29\u001b[0m loss \u001b[38;5;241m=\u001b[39m (L1 \u001b[38;5;241m+\u001b[39m L2)\u001b[38;5;241m/\u001b[39m\u001b[38;5;241m2\u001b[39m \u001b[38;5;241m-\u001b[39m L3\n\u001b[0;32m---> 30\u001b[0m \u001b[43mloss\u001b[49m\u001b[38;5;241;43m.\u001b[39;49m\u001b[43mbackward\u001b[49m\u001b[43m(\u001b[49m\u001b[43m)\u001b[49m\n\u001b[1;32m     31\u001b[0m gen_opt\u001b[38;5;241m.\u001b[39mstep()\n\u001b[1;32m     32\u001b[0m cur_steps \u001b[38;5;241m+\u001b[39m\u001b[38;5;241m=\u001b[39m \u001b[38;5;241m1\u001b[39m\n",
      "File \u001b[0;32m~/.local/lib/python3.8/site-packages/torch/_tensor.py:487\u001b[0m, in \u001b[0;36mTensor.backward\u001b[0;34m(self, gradient, retain_graph, create_graph, inputs)\u001b[0m\n\u001b[1;32m    477\u001b[0m \u001b[38;5;28;01mif\u001b[39;00m has_torch_function_unary(\u001b[38;5;28mself\u001b[39m):\n\u001b[1;32m    478\u001b[0m     \u001b[38;5;28;01mreturn\u001b[39;00m handle_torch_function(\n\u001b[1;32m    479\u001b[0m         Tensor\u001b[38;5;241m.\u001b[39mbackward,\n\u001b[1;32m    480\u001b[0m         (\u001b[38;5;28mself\u001b[39m,),\n\u001b[0;32m   (...)\u001b[0m\n\u001b[1;32m    485\u001b[0m         inputs\u001b[38;5;241m=\u001b[39minputs,\n\u001b[1;32m    486\u001b[0m     )\n\u001b[0;32m--> 487\u001b[0m \u001b[43mtorch\u001b[49m\u001b[38;5;241;43m.\u001b[39;49m\u001b[43mautograd\u001b[49m\u001b[38;5;241;43m.\u001b[39;49m\u001b[43mbackward\u001b[49m\u001b[43m(\u001b[49m\n\u001b[1;32m    488\u001b[0m \u001b[43m    \u001b[49m\u001b[38;5;28;43mself\u001b[39;49m\u001b[43m,\u001b[49m\u001b[43m \u001b[49m\u001b[43mgradient\u001b[49m\u001b[43m,\u001b[49m\u001b[43m \u001b[49m\u001b[43mretain_graph\u001b[49m\u001b[43m,\u001b[49m\u001b[43m \u001b[49m\u001b[43mcreate_graph\u001b[49m\u001b[43m,\u001b[49m\u001b[43m \u001b[49m\u001b[43minputs\u001b[49m\u001b[38;5;241;43m=\u001b[39;49m\u001b[43minputs\u001b[49m\n\u001b[1;32m    489\u001b[0m \u001b[43m\u001b[49m\u001b[43m)\u001b[49m\n",
      "File \u001b[0;32m~/.local/lib/python3.8/site-packages/torch/autograd/__init__.py:200\u001b[0m, in \u001b[0;36mbackward\u001b[0;34m(tensors, grad_tensors, retain_graph, create_graph, grad_variables, inputs)\u001b[0m\n\u001b[1;32m    195\u001b[0m     retain_graph \u001b[38;5;241m=\u001b[39m create_graph\n\u001b[1;32m    197\u001b[0m \u001b[38;5;66;03m# The reason we repeat same the comment below is that\u001b[39;00m\n\u001b[1;32m    198\u001b[0m \u001b[38;5;66;03m# some Python versions print out the first line of a multi-line function\u001b[39;00m\n\u001b[1;32m    199\u001b[0m \u001b[38;5;66;03m# calls in the traceback and some print out the last line\u001b[39;00m\n\u001b[0;32m--> 200\u001b[0m \u001b[43mVariable\u001b[49m\u001b[38;5;241;43m.\u001b[39;49m\u001b[43m_execution_engine\u001b[49m\u001b[38;5;241;43m.\u001b[39;49m\u001b[43mrun_backward\u001b[49m\u001b[43m(\u001b[49m\u001b[43m  \u001b[49m\u001b[38;5;66;43;03m# Calls into the C++ engine to run the backward pass\u001b[39;49;00m\n\u001b[1;32m    201\u001b[0m \u001b[43m    \u001b[49m\u001b[43mtensors\u001b[49m\u001b[43m,\u001b[49m\u001b[43m \u001b[49m\u001b[43mgrad_tensors_\u001b[49m\u001b[43m,\u001b[49m\u001b[43m \u001b[49m\u001b[43mretain_graph\u001b[49m\u001b[43m,\u001b[49m\u001b[43m \u001b[49m\u001b[43mcreate_graph\u001b[49m\u001b[43m,\u001b[49m\u001b[43m \u001b[49m\u001b[43minputs\u001b[49m\u001b[43m,\u001b[49m\n\u001b[1;32m    202\u001b[0m \u001b[43m    \u001b[49m\u001b[43mallow_unreachable\u001b[49m\u001b[38;5;241;43m=\u001b[39;49m\u001b[38;5;28;43;01mTrue\u001b[39;49;00m\u001b[43m,\u001b[49m\u001b[43m \u001b[49m\u001b[43maccumulate_grad\u001b[49m\u001b[38;5;241;43m=\u001b[39;49m\u001b[38;5;28;43;01mTrue\u001b[39;49;00m\u001b[43m)\u001b[49m\n",
      "\u001b[0;31mKeyboardInterrupt\u001b[0m: "
     ]
    }
   ],
   "source": [
    "# Code pour le tenseur complet\n",
    "lr = 1e-4\n",
    "beta_1 = 0.5\n",
    "beta_2 = 0.999\n",
    "\n",
    "gen = Model(N, m, nb_blocks)\n",
    "gen_opt = torch.optim.Adam(gen.parameters(), lr=lr, betas=(beta_1, beta_2))\n",
    "\n",
    "cur_steps = 0\n",
    "# Monte Carlo\n",
    "# for _ in range(10) :\n",
    "\n",
    "output = gen(torch.rand(nb_maps, 1, nb_points, nb_blocks))\n",
    "\n",
    "while np.linalg.norm(output.detach().numpy() - source_term.detach().numpy()) > 1e-1:\n",
    "    gen_opt.zero_grad()\n",
    "    \n",
    "    output = gen(X)\n",
    "    output_dX, output_dY = torch.zeros(output.shape), torch.zeros(output.shape)\n",
    "    for i, out in enumerate(output) :\n",
    "        output_dx, output_dy = conv(out[0]), conv(out[0], dx = False)\n",
    "        output_dx, output_dy = output_dx.expand(1, 1, -1, -1), output_dy.expand(1, 1, -1, -1)\n",
    "        output_dX[i, :, :, :], output_dY[i, :, :, :] = output_dx, output_dy\n",
    "\n",
    "    L1, L2 = torch.pow(output_dX, 2), torch.pow(output_dY, 2)\n",
    "    L1, L2 = torch.sum(L1)/(L1.shape[0]*L1.shape[1]), torch.sum(L2)/(L2.shape[0]*L2.shape[1])\n",
    "    L3 = torch.sum(source_term*output) / (source_term.shape[0]*source_term.shape[1])\n",
    "\n",
    "    loss = (L1 + L2)/2 - L3\n",
    "    loss.backward()\n",
    "    gen_opt.step()\n",
    "    cur_steps += 1\n",
    "    # print(f'Loss : {loss}')\n",
    "    print(np.linalg.norm(output.detach().numpy() - source_term[0, 0, :, :].detach().numpy()))\n",
    "plt.imshow(output.detach().numpy())\n",
    "plt.show()\n",
    "print(np.linalg.norm(output - source_term[0, 0, :, :]))"
   ]
  },
  {
   "cell_type": "code",
   "execution_count": null,
   "metadata": {},
   "outputs": [],
   "source": [
    "gen = Model(N, m, nb_blocks)\n",
    "output = gen(X)\n",
    "output_dX, output_dY = torch.zeros(output.shape), torch.zeros(output.shape)\n",
    "\n",
    "for i, out in enumerate(output) :\n",
    "    output_dx, output_dy = conv(out[0]), conv(out[0], dx = False)\n",
    "    output_dx, output_dy = output_dx.expand(1, 1, -1, -1), output_dy.expand(1, 1, -1, -1)\n",
    "    output_dX[i, :, :, :], output_dY[i, :, :, :] = output_dx, output_dy\n",
    "    \n",
    "L1, L2 = torch.pow(output_dX, 2)/2, torch.pow(output_dY, 2)/2\n",
    "# gen_opt = torch.optim.Adam(gen.parameters(), lr=1e-4)"
   ]
  }
 ],
 "metadata": {
  "kernelspec": {
   "display_name": "Python 3",
   "language": "python",
   "name": "python3"
  },
  "language_info": {
   "codemirror_mode": {
    "name": "ipython",
    "version": 3
   },
   "file_extension": ".py",
   "mimetype": "text/x-python",
   "name": "python",
   "nbconvert_exporter": "python",
   "pygments_lexer": "ipython3",
   "version": "3.8.10"
  }
 },
 "nbformat": 4,
 "nbformat_minor": 2
}
