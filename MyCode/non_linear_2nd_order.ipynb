{
 "cells": [
  {
   "cell_type": "markdown",
   "metadata": {},
   "source": [
    "# décrire le problème [TO DO]"
   ]
  },
  {
   "cell_type": "code",
   "execution_count": 20,
   "metadata": {},
   "outputs": [],
   "source": [
    "import numpy as np\n",
    "import matplotlib.pyplot as plt\n",
    "import torch \n",
    "from torch.autograd import grad"
   ]
  },
  {
   "cell_type": "code",
   "execution_count": 18,
   "metadata": {},
   "outputs": [],
   "source": [
    "class ActivationCube(torch.nn.Module):\n",
    "    def __init__(self) -> None:\n",
    "        super(ActivationCube, self).__init__()\n",
    "\n",
    "    def forward(self, x):\n",
    "        return torch.maximum(x**3, torch.tensor(0.))\n",
    "\n",
    "class RitzModel(torch.nn.Module):\n",
    "\n",
    "    def __init__(self):\n",
    "        super(RitzModel, self).__init__()\n",
    "\n",
    "        self.fc1 = torch.nn.Linear(in_features=1, out_features=10)\n",
    "        self.activation1 = ActivationCube()\n",
    "        self.fc2 = torch.nn.Linear(in_features=10, out_features=10)\n",
    "        self.activation2 = ActivationCube()\n",
    "\n",
    "        self.fc3 = torch.nn.Linear(in_features=10, out_features=10)\n",
    "        self.activation3 = ActivationCube()\n",
    "        self.fc4 = torch.nn.Linear(in_features=10, out_features=10)\n",
    "        self.activation4 = ActivationCube()\n",
    "\n",
    "        self.fc5 = torch.nn.Linear(in_features=10, out_features=10)\n",
    "        self.activation5 = ActivationCube()\n",
    "        self.fc6 = torch.nn.Linear(in_features=10, out_features=10)\n",
    "        self.activation6 = ActivationCube()\n",
    "\n",
    "        self.fc7 = torch.nn.Linear(in_features=10, out_features=10)\n",
    "        self.activation7 = ActivationCube()\n",
    "        self.fc8 = torch.nn.Linear(in_features=10, out_features=10)\n",
    "        self.activation8 = ActivationCube()\n",
    "\n",
    "        self.fc9 = torch.nn.Linear(in_features=10, out_features=1)\n",
    "\n",
    "        for m in self.modules():\n",
    "            if isinstance(m, torch.nn.Linear):\n",
    "                torch.nn.init.normal_(m.weight, mean=0, std=0.1)\n",
    "\n",
    "    def forward(self, x):\n",
    "        retain_x1 = x\n",
    "        x = self.fc1(x)\n",
    "        x = self.activation1(x)\n",
    "        x = self.fc2(x)\n",
    "        x = self.activation2(x)\n",
    "        x = x + retain_x1\n",
    "\n",
    "        retain_x2 = x\n",
    "        x = self.fc3(x)\n",
    "        x = self.activation3(x)\n",
    "        x = self.fc4(x)\n",
    "        x = self.activation4(x)\n",
    "        x = x + retain_x2\n",
    "\n",
    "        retain_x3 = x\n",
    "        x = self.fc5(x)\n",
    "        x = self.activation5(x)\n",
    "        x = self.fc6(x)\n",
    "        x = self.activation6(x)\n",
    "        x = x + retain_x3\n",
    "\n",
    "        retain_x4 = x\n",
    "        x = self.fc7(x)\n",
    "        x = self.activation7(x)\n",
    "        x = self.fc8(x)\n",
    "        x = self.activation8(x)\n",
    "        x = x + retain_x4\n",
    "\n",
    "        u_theta = self.fc9(x)\n",
    "\n",
    "        return u_theta"
   ]
  },
  {
   "cell_type": "code",
   "execution_count": 3,
   "metadata": {},
   "outputs": [],
   "source": [
    "def u_true(x):\n",
    "    return np.sin(x)**2\n",
    "\n",
    "def f_true(x):\n",
    "    return np.sin(2*x) + 2*x*np.cos(2*x)"
   ]
  },
  {
   "cell_type": "code",
   "execution_count": 9,
   "metadata": {},
   "outputs": [
    {
     "name": "stdout",
     "output_type": "stream",
     "text": [
      "torch.Size([1, 1, 50]) torch.Size([50, 1])\n"
     ]
    }
   ],
   "source": [
    "vxn  = 50\n",
    "vx =np.linspace(0, np.pi, vxn) \n",
    "ix = torch.FloatTensor(vx).reshape(vxn,1)"
   ]
  },
  {
   "cell_type": "code",
   "execution_count": 13,
   "metadata": {},
   "outputs": [
    {
     "data": {
      "text/plain": [
       "[<matplotlib.lines.Line2D at 0x7f862a72bd60>]"
      ]
     },
     "execution_count": 13,
     "metadata": {},
     "output_type": "execute_result"
    },
    {
     "data": {
      "image/png": "[encoded data removed]",
      "text/plain": [
       "<Figure size 640x480 with 1 Axes>"
      ]
     },
     "metadata": {},
     "output_type": "display_data"
    }
   ],
   "source": [
    "plt.plot(ix, ix)\n",
    "plt.plot(ix, f_true(ix))"
   ]
  },
  {
   "cell_type": "code",
   "execution_count": 184,
   "metadata": {},
   "outputs": [],
   "source": [
    "class Net(torch.nn.Module):\n",
    "    def __init__(self):\n",
    "        super(Net, self).__init__()\n",
    "        self.il  = torch.nn.Linear(1,80)\n",
    "        self.mi  = torch.nn.Linear(80,80)\n",
    "        self.mi1  = torch.nn.Linear(80,80)\n",
    "        self.mi2 = torch.nn.Linear(80,40)\n",
    "        self.ol  = torch.nn.Linear(40,1)\n",
    "\n",
    "        self.tn  = torch.nn.Tanh()\n",
    "        for m in self.modules():\n",
    "            if isinstance(m, torch.nn.Linear):\n",
    "                torch.nn.init.normal_(m.weight, mean=0, std=0.1)\n",
    "\n",
    "    def forward(self,x):\n",
    "        u = x\n",
    "        hidden1 = self.il(u)\n",
    "        hidden2 = self.mi(self.tn(hidden1))\n",
    "        hidden2a = self.mi1(self.tn(hidden2))\n",
    "        hidden3 = self.mi2(self.tn(hidden2a))\n",
    "        out =  self.ol(self.tn(hidden3))\n",
    "        return out"
   ]
  },
  {
   "cell_type": "code",
   "execution_count": 183,
   "metadata": {},
   "outputs": [
    {
     "name": "stdout",
     "output_type": "stream",
     "text": [
      "-0.2591366171836853 -0.2982456386089325\n"
     ]
    }
   ],
   "source": [
    "boundary = torch.FloatTensor([vx[0], vx[-1]]).reshape(2,1)\n",
    "true_boundary = torch.FloatTensor([0., 0.]).reshape(2,1) # homogeneous boundary condition\n",
    "\n",
    "pred_boundary_ritz = np.array([])\n",
    "pred_boundary_net = np.array([])\n",
    "\n",
    "ritz_model = RitzModel()\n",
    "net_model = Net()\n",
    "\n",
    "for _ in range(100) :\n",
    "    pred_boundary_ritz = np.append(pred_boundary_ritz, ritz_model(boundary).detach().numpy())\n",
    "    pred_boundary_net = np.append(pred_boundary_net, net_model(boundary).detach().numpy())\n",
    "\n",
    "print(np.mean(pred_boundary_ritz), np.mean(pred_boundary_net))"
   ]
  },
  {
   "cell_type": "code",
   "execution_count": 169,
   "metadata": {},
   "outputs": [],
   "source": [
    "def flat(x):\n",
    "    m = x.shape[0]\n",
    "    return [x[i] for i in range(m)]\n",
    "\n",
    "def Du(x, model):\n",
    "    u = model(x)\n",
    "    u_x = grad(flat(u), x, create_graph=True, allow_unused=True)[0]\n",
    "    z = u_x*x\n",
    "    u_xx = grad(flat(z), x, create_graph=True, allow_unused=True)[0]\n",
    "    return u_xx"
   ]
  },
  {
   "cell_type": "code",
   "execution_count": 170,
   "metadata": {},
   "outputs": [
    {
     "name": "stdout",
     "output_type": "stream",
     "text": [
      "tensor([[0.0179],\n",
      "        [0.0189],\n",
      "        [0.0159],\n",
      "        [0.0187],\n",
      "        [0.0155],\n",
      "        [0.0174],\n",
      "        [0.0159],\n",
      "        [0.0182],\n",
      "        [0.0186],\n",
      "        [0.0086]], grad_fn=<AddBackward0>)\n"
     ]
    }
   ],
   "source": [
    "import random\n",
    "\n",
    "nb_batch = 20\n",
    "batches_list = []\n",
    "f_batches_list = []\n",
    "\n",
    "for _ in range(nb_batch) :\n",
    "    batch = np.array(random.choices(vx, k=10))\n",
    "    batch = torch.FloatTensor(batch).reshape(10,1)\n",
    "    batch.requires_grad = True\n",
    "    batches_list.append(batch)\n",
    "\n",
    "    f_batch = torch.FloatTensor(f_true(batch.detach().numpy())).reshape(10,1)\n",
    "    f_batch.requires_grad = True\n",
    "    f_batches_list.append(f_batch)\n",
    "\n",
    "print(Du(batches_list[0], net_model))"
   ]
  },
  {
   "cell_type": "code",
   "execution_count": 190,
   "metadata": {},
   "outputs": [
    {
     "name": "stdout",
     "output_type": "stream",
     "text": [
      "Epoch 0 : Loss boundary 2.4186816215515137 Loss f 3.954714298248291\n",
      "Epoch 10 : Loss boundary 2.1648285388946533 Loss f 2.85798716545105\n",
      "Epoch 20 : Loss boundary 2.01810359954834 Loss f 7.566279411315918\n",
      "Epoch 30 : Loss boundary 1.8653854131698608 Loss f 5.335675239562988\n",
      "Epoch 40 : Loss boundary 1.748368263244629 Loss f 2.1330726146698\n",
      "Epoch 50 : Loss boundary 1.5885180234909058 Loss f 6.398343086242676\n",
      "Epoch 60 : Loss boundary 1.4196854829788208 Loss f 1.470811128616333\n",
      "Epoch 70 : Loss boundary 1.1572725772857666 Loss f 3.9477367401123047\n",
      "Epoch 80 : Loss boundary 0.9425098896026611 Loss f 3.1745476722717285\n",
      "Epoch 90 : Loss boundary 0.6799024343490601 Loss f 0.8818656802177429\n",
      "Epoch 100 : Loss boundary 0.45850056409835815 Loss f 2.4621901512145996\n",
      "Epoch 110 : Loss boundary 0.38572728633880615 Loss f 0.6795274019241333\n",
      "Epoch 120 : Loss boundary 0.2750023603439331 Loss f 2.7601726055145264\n",
      "Epoch 130 : Loss boundary 0.20224489271640778 Loss f 0.37793585658073425\n",
      "Epoch 140 : Loss boundary 0.1520891636610031 Loss f 0.20971426367759705\n",
      "Epoch 150 : Loss boundary 0.1084156334400177 Loss f 0.37044674158096313\n",
      "Epoch 160 : Loss boundary 0.058276545256376266 Loss f 0.1891699880361557\n",
      "Epoch 170 : Loss boundary 0.043565988540649414 Loss f 0.22447481751441956\n",
      "Epoch 180 : Loss boundary 0.02008049376308918 Loss f 0.06832524389028549\n",
      "Epoch 190 : Loss boundary 0.004568487871438265 Loss f 0.2622835338115692\n",
      "Epoch 200 : Loss boundary 0.008768758736550808 Loss f 0.08064015954732895\n",
      "Epoch 210 : Loss boundary 0.009572051465511322 Loss f 0.0553903691470623\n",
      "Epoch 220 : Loss boundary 0.00462733767926693 Loss f 2.0598959922790527\n",
      "Epoch 230 : Loss boundary 0.0023431903682649136 Loss f 0.10543596744537354\n",
      "Epoch 240 : Loss boundary 0.0028165141120553017 Loss f 0.016831740736961365\n",
      "Epoch 250 : Loss boundary 0.0034113749861717224 Loss f 0.6118264198303223\n",
      "Epoch 260 : Loss boundary 0.0034626792185008526 Loss f 0.17581939697265625\n",
      "Epoch 270 : Loss boundary 0.0035641046706587076 Loss f 0.08386547863483429\n",
      "Epoch 280 : Loss boundary 0.0019875611178576946 Loss f 0.02858450450003147\n",
      "Epoch 290 : Loss boundary 0.0005939998663961887 Loss f 0.0034702711272984743\n",
      "Epoch 300 : Loss boundary 0.00018427091708872467 Loss f 0.03137312829494476\n",
      "Epoch 310 : Loss boundary 0.00019973549933638424 Loss f 0.010866271331906319\n",
      "Epoch 320 : Loss boundary 0.00011745928350137547 Loss f 0.003950189799070358\n",
      "Epoch 330 : Loss boundary 1.2118112863390706e-05 Loss f 0.028970932587981224\n",
      "Epoch 340 : Loss boundary 7.10037857061252e-05 Loss f 0.002888171700760722\n",
      "Epoch 350 : Loss boundary 1.3232446690381039e-05 Loss f 0.000458335445728153\n",
      "Epoch 360 : Loss boundary 0.0001034871966112405 Loss f 0.018518615514039993\n",
      "Epoch 370 : Loss boundary 6.893661338835955e-05 Loss f 0.039274733513593674\n",
      "Epoch 380 : Loss boundary 6.146341547719203e-06 Loss f 0.002223371062427759\n",
      "Epoch 390 : Loss boundary 2.7787841645476874e-06 Loss f 0.0015029102796688676\n",
      "Epoch 400 : Loss boundary 2.121528086718172e-05 Loss f 0.003718194318935275\n",
      "Epoch 410 : Loss boundary 2.6811374482349493e-05 Loss f 0.005565311759710312\n",
      "Epoch 420 : Loss boundary 0.00010002232738770545 Loss f 0.0032843046355992556\n",
      "Epoch 430 : Loss boundary 6.280186062213033e-05 Loss f 1.163607120513916\n",
      "Epoch 440 : Loss boundary 2.4608564217487583e-06 Loss f 0.0028508075047284365\n",
      "Epoch 450 : Loss boundary 9.617878822609782e-05 Loss f 0.0010796829592436552\n",
      "Epoch 460 : Loss boundary 7.309822649403941e-06 Loss f 0.0010621475521475077\n",
      "Epoch 470 : Loss boundary 0.0074190921150147915 Loss f 0.2221478968858719\n",
      "Epoch 480 : Loss boundary 5.613428129436215e-06 Loss f 0.0034486684016883373\n",
      "Epoch 490 : Loss boundary 9.125818905886263e-06 Loss f 0.0018357497174292803\n",
      "Epoch 500 : Loss boundary 8.110918656711874e-07 Loss f 0.00017199930152855814\n",
      "Epoch 510 : Loss boundary 1.0291845683241263e-05 Loss f 0.0005943725118413568\n",
      "Epoch 520 : Loss boundary 1.7379621567670256e-05 Loss f 0.0012608480174094439\n",
      "Epoch 530 : Loss boundary 0.0002463600831106305 Loss f 0.00400150753557682\n",
      "Epoch 540 : Loss boundary 4.880207598034758e-07 Loss f 0.0004427668754942715\n",
      "Epoch 550 : Loss boundary 9.369641338707879e-05 Loss f 0.01883890852332115\n",
      "Epoch 560 : Loss boundary 0.00039547242340631783 Loss f 0.021180517971515656\n",
      "Epoch 570 : Loss boundary 8.40834400150925e-06 Loss f 0.007048575673252344\n",
      "Epoch 580 : Loss boundary 5.832332135469187e-06 Loss f 0.0018110614037141204\n",
      "Epoch 590 : Loss boundary 0.0002596337581053376 Loss f 0.02553275227546692\n",
      "Epoch 600 : Loss boundary 1.2208287216708413e-06 Loss f 0.004801879171282053\n",
      "Epoch 610 : Loss boundary 1.9155060726916417e-05 Loss f 0.0014217138523235917\n",
      "Epoch 620 : Loss boundary 0.0014332709833979607 Loss f 0.06127402186393738\n",
      "Epoch 630 : Loss boundary 0.0002508551406208426 Loss f 0.0044283694587647915\n",
      "Epoch 640 : Loss boundary 5.2445724577410147e-05 Loss f 0.0022997914347797632\n",
      "Epoch 650 : Loss boundary 5.20627008882002e-06 Loss f 0.008307919837534428\n",
      "Epoch 660 : Loss boundary 0.00041358612361364067 Loss f 0.01393135916441679\n",
      "Epoch 670 : Loss boundary 0.0002238846936961636 Loss f 0.044370137155056\n",
      "Epoch 680 : Loss boundary 0.000790584774222225 Loss f 0.05811343714594841\n",
      "Epoch 690 : Loss boundary 7.236184956127545e-06 Loss f 0.00028136756736785173\n",
      "Epoch 700 : Loss boundary 9.022189260576852e-06 Loss f 0.0005108502227813005\n",
      "Epoch 710 : Loss boundary 2.4191762349801138e-05 Loss f 0.0012360127875581384\n",
      "Epoch 720 : Loss boundary 2.6192370569333434e-05 Loss f 0.0009602464851923287\n",
      "Epoch 730 : Loss boundary 7.415117579512298e-06 Loss f 0.0004727702180389315\n",
      "Epoch 740 : Loss boundary 1.5465209799003787e-05 Loss f 0.0020835716277360916\n",
      "Epoch 750 : Loss boundary 0.00043936105794273317 Loss f 0.0042030541226267815\n",
      "Epoch 760 : Loss boundary 0.0002970233908854425 Loss f 0.0028547525871545076\n",
      "Epoch 770 : Loss boundary 9.30176829569973e-05 Loss f 0.002885931171476841\n",
      "Epoch 780 : Loss boundary 0.0018907948397099972 Loss f 0.023389635607600212\n",
      "Epoch 790 : Loss boundary 0.0001777913566911593 Loss f 0.00423539848998189\n",
      "Epoch 800 : Loss boundary 0.0006128613604232669 Loss f 0.00034091543057002127\n",
      "Epoch 810 : Loss boundary 0.0003116462321486324 Loss f 0.024775192141532898\n",
      "Epoch 820 : Loss boundary 3.846090112347156e-05 Loss f 0.0016429182142019272\n",
      "Epoch 830 : Loss boundary 1.2853448083660624e-07 Loss f 9.421947470400482e-05\n",
      "Epoch 840 : Loss boundary 0.0001027968610287644 Loss f 0.0019449865212664008\n",
      "Epoch 850 : Loss boundary 0.0001231761707458645 Loss f 0.00012569471437018365\n",
      "Epoch 860 : Loss boundary 0.0007908316911198199 Loss f 0.0021828520111739635\n",
      "Epoch 870 : Loss boundary 1.2650913959078025e-05 Loss f 0.000674326962325722\n",
      "Epoch 880 : Loss boundary 0.00219282740727067 Loss f 0.029058754444122314\n",
      "Epoch 890 : Loss boundary 9.642787517805118e-06 Loss f 0.0014317352324724197\n",
      "Epoch 900 : Loss boundary 0.00038633099757134914 Loss f 0.01779760792851448\n",
      "Epoch 910 : Loss boundary 1.0101414773089346e-05 Loss f 0.00012586862430907786\n",
      "Epoch 920 : Loss boundary 1.9417168005020358e-05 Loss f 0.0012406135210767388\n",
      "Epoch 930 : Loss boundary 0.00014432729221880436 Loss f 0.0014991337666288018\n",
      "Epoch 940 : Loss boundary 5.738332902183174e-07 Loss f 0.009111542254686356\n",
      "Epoch 950 : Loss boundary 0.000679407618008554 Loss f 0.0005900141550228\n",
      "Epoch 960 : Loss boundary 0.0010477232281118631 Loss f 0.0033203703351318836\n",
      "Epoch 970 : Loss boundary 4.753442044602707e-05 Loss f 0.00028845207998529077\n",
      "Epoch 980 : Loss boundary 0.00024202815257012844 Loss f 0.001971513731405139\n",
      "Epoch 990 : Loss boundary 0.00034955397131852806 Loss f 0.0029434359166771173\n"
     ]
    }
   ],
   "source": [
    "net_model = RitzModel()\n",
    "epochs = 1000\n",
    "loss_fn = torch.nn.MSELoss()\n",
    "optimizer_f = torch.optim.Adam(net_model.parameters(), lr=0.0005)\n",
    "optimizer_boundary = torch.optim.Adam(net_model.parameters(), lr=0.001)\n",
    "\n",
    "for epoch in range(epochs) :\n",
    "    for _ in range(nb_batch) :\n",
    "        batch_index = np.random.randint(0, nb_batch)\n",
    "        batch = batches_list[batch_index]\n",
    "        f_batch = f_batches_list[batch_index]\n",
    "\n",
    "        optimizer_f.zero_grad()\n",
    "        optimizer_boundary.zero_grad()\n",
    "\n",
    "        output_boundary = net_model(boundary)\n",
    "        output_f = Du(batch, net_model)\n",
    "\n",
    "        loss_boundary = loss_fn(output_boundary, true_boundary)\n",
    "        loss_f = loss_fn(output_f, f_batch)\n",
    "\n",
    "        loss_f.backward(retain_graph=True)\n",
    "        loss_boundary.backward(retain_graph=True)\n",
    "        optimizer_f.step()\n",
    "        optimizer_boundary.step()\n",
    "\n",
    "    if epoch % 10 == 0 :\n",
    "        print(f'Epoch {epoch} : Loss boundary {loss_boundary.item()} Loss f {loss_f.item()}')"
   ]
  },
  {
   "cell_type": "code",
   "execution_count": 191,
   "metadata": {},
   "outputs": [
    {
     "data": {
      "text/plain": [
       "[<matplotlib.lines.Line2D at 0x7f86084823a0>]"
      ]
     },
     "execution_count": 191,
     "metadata": {},
     "output_type": "execute_result"
    },
    {
     "data": {
      "image/png": "[encoded data removed]",
      "text/plain": [
       "<Figure size 640x480 with 1 Axes>"
      ]
     },
     "metadata": {},
     "output_type": "display_data"
    }
   ],
   "source": [
    "ix = torch.FloatTensor(vx).reshape(vxn,1)\n",
    "u = net_model(ix)\n",
    "plt.plot(ix, u_true(ix) ,  linewidth=6)\n",
    "plt.plot(ix, u.detach().numpy(), linewidth=2)"
   ]
  }
 ],
 "metadata": {
  "kernelspec": {
   "display_name": "Python 3",
   "language": "python",
   "name": "python3"
  },
  "language_info": {
   "codemirror_mode": {
    "name": "ipython",
    "version": 3
   },
   "file_extension": ".py",
   "mimetype": "text/x-python",
   "name": "python",
   "nbconvert_exporter": "python",
   "pygments_lexer": "ipython3",
   "version": "3.8.10"
  }
 },
 "nbformat": 4,
 "nbformat_minor": 2
}
