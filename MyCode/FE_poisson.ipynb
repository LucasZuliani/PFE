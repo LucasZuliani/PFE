{
 "cells": [
  {
   "cell_type": "code",
   "execution_count": 1,
   "metadata": {},
   "outputs": [],
   "source": [
    "import numpy as np\n",
    "from fenics import *\n",
    "from skopt.sampler import Lhs\n",
    "from skopt.space import Space"
   ]
  },
  {
   "cell_type": "code",
   "execution_count": 2,
   "metadata": {},
   "outputs": [],
   "source": [
    "# Use Latin Hypercube Sampling to generate samples for the parameters alpha, beta and gamma\n",
    "space_lhs = Space([(1., 10.), (0, np.pi/2), (0, np.pi/2)]) # define the space of the parameters for alpha, beta and gamma\n",
    "lhs = Lhs(lhs_type=\"classic\", criterion=\"maximin\", iterations=1000)\n",
    "\n",
    "n_echantillons = 100\n",
    "lhs_samples = np.array(lhs.generate(space_lhs.dimensions, n_echantillons))"
   ]
  },
  {
   "cell_type": "code",
   "execution_count": 3,
   "metadata": {},
   "outputs": [],
   "source": [
    "def boundary_R(x, on_boundary):\n",
    "    return on_boundary and near(x[0], 1.0, 1E-14)\n",
    "\n",
    "def boundary_R_barre(x, on_boundary):\n",
    "    return on_boundary and not(near(x[0], 1.0, 1E-14))\n",
    "\n",
    "u_R = Expression('cos(2 * pi * x[1])', degree=2)\n",
    "u_R_barre = Constant(1.0)"
   ]
  },
  {
   "cell_type": "code",
   "execution_count": 4,
   "metadata": {},
   "outputs": [],
   "source": [
    "import scipy.ndimage as ndimage\n",
    "def reshape_fenics_vector(u, mesh, square_dim):\n",
    "    coordinates = mesh.coordinates()\n",
    "    vertex_values = u.compute_vertex_values(mesh)\n",
    "\n",
    "    combined_info = list(zip(coordinates, vertex_values))\n",
    "    combined_info.sort(key=lambda x: (x[0][0]))\n",
    "\n",
    "    coordinates_sorted = [x[0] for x in combined_info]\n",
    "    vertex_values_sorted = [x[1] for x in combined_info]\n",
    "\n",
    "    return ndimage.rotate(np.reshape(vertex_values_sorted, (square_dim, square_dim))  , 90) "
   ]
  },
  {
   "cell_type": "code",
   "execution_count": 5,
   "metadata": {},
   "outputs": [
    {
     "name": "stdout",
     "output_type": "stream",
     "text": [
      "Solving linear variational problem.\n",
      "Solving linear variational problem.\n",
      "Solving linear variational problem.\n",
      "Solving linear variational problem.\n",
      "Solving linear variational problem.\n",
      "Solving linear variational problem.\n",
      "Solving linear variational problem.\n",
      "Solving linear variational problem.\n",
      "Solving linear variational problem.\n",
      "Solving linear variational problem.\n",
      "Solving linear variational problem.\n",
      "Solving linear variational problem.\n",
      "Solving linear variational problem.\n",
      "Solving linear variational problem.\n",
      "Solving linear variational problem.\n",
      "Solving linear variational problem.\n",
      "Solving linear variational problem.\n",
      "Solving linear variational problem.\n",
      "Solving linear variational problem.\n",
      "Solving linear variational problem.\n",
      "Solving linear variational problem.\n",
      "Solving linear variational problem.\n",
      "Solving linear variational problem.\n",
      "Solving linear variational problem.\n",
      "Solving linear variational problem.\n",
      "Solving linear variational problem.\n",
      "Solving linear variational problem.\n",
      "Solving linear variational problem.\n",
      "Solving linear variational problem.\n",
      "Solving linear variational problem.\n",
      "Solving linear variational problem.\n",
      "Solving linear variational problem.\n",
      "Solving linear variational problem.\n",
      "Solving linear variational problem.\n",
      "Solving linear variational problem.\n",
      "Solving linear variational problem.\n",
      "Solving linear variational problem.\n",
      "Solving linear variational problem.\n",
      "Solving linear variational problem.\n",
      "Solving linear variational problem.\n",
      "Solving linear variational problem.\n",
      "Solving linear variational problem.\n",
      "Solving linear variational problem.\n",
      "Solving linear variational problem.\n",
      "Solving linear variational problem.\n",
      "Solving linear variational problem.\n",
      "Solving linear variational problem.\n",
      "Solving linear variational problem.\n",
      "Solving linear variational problem.\n",
      "Solving linear variational problem.\n",
      "Solving linear variational problem.\n",
      "Solving linear variational problem.\n",
      "Solving linear variational problem.\n",
      "Solving linear variational problem.\n",
      "Solving linear variational problem.\n",
      "Solving linear variational problem.\n",
      "Solving linear variational problem.\n",
      "Solving linear variational problem.\n",
      "Solving linear variational problem.\n",
      "Solving linear variational problem.\n",
      "Solving linear variational problem.\n",
      "Solving linear variational problem.\n",
      "Solving linear variational problem.\n",
      "Solving linear variational problem.\n",
      "Solving linear variational problem.\n",
      "Solving linear variational problem.\n",
      "Solving linear variational problem.\n",
      "Solving linear variational problem.\n",
      "Solving linear variational problem.\n",
      "Solving linear variational problem.\n",
      "Solving linear variational problem.\n",
      "Solving linear variational problem.\n",
      "Solving linear variational problem.\n",
      "Solving linear variational problem.\n",
      "Solving linear variational problem.\n",
      "Solving linear variational problem.\n",
      "Solving linear variational problem.\n",
      "Solving linear variational problem.\n",
      "Solving linear variational problem.\n",
      "Solving linear variational problem.\n",
      "Solving linear variational problem.\n",
      "Solving linear variational problem.\n",
      "Solving linear variational problem.\n",
      "Solving linear variational problem.\n",
      "Solving linear variational problem.\n",
      "Solving linear variational problem.\n",
      "Solving linear variational problem.\n",
      "Solving linear variational problem.\n",
      "Solving linear variational problem.\n",
      "Solving linear variational problem.\n",
      "Solving linear variational problem.\n",
      "Solving linear variational problem.\n",
      "Solving linear variational problem.\n",
      "Solving linear variational problem.\n",
      "Solving linear variational problem.\n",
      "Solving linear variational problem.\n",
      "Solving linear variational problem.\n",
      "Solving linear variational problem.\n",
      "Solving linear variational problem.\n",
      "Solving linear variational problem.\n"
     ]
    }
   ],
   "source": [
    "import scipy.io as sio\n",
    "\n",
    "nx, ny = 99, 99\n",
    "mesh = UnitSquareMesh(nx, ny)\n",
    "V = FunctionSpace(mesh, 'P', 1)\n",
    "coordinates = V.tabulate_dof_coordinates()\n",
    "bc_R = DirichletBC(V, u_R, boundary_R)\n",
    "bc_R_barre = DirichletBC(V, u_R_barre, boundary_R_barre)\n",
    "bcs = [bc_R_barre, bc_R]\n",
    "source_term_str = 'alpha * pow(pi, 2) * (x[0]*x[0] + x[1]*x[1]) * sin(pi*(x[0] + beta)*(x[1] + gamma))'\n",
    "\n",
    "source_term_list = []\n",
    "u_list = []\n",
    "\n",
    "for alpha, beta, gamma in lhs_samples:\n",
    "\n",
    "    source_term = Expression(source_term_str, alpha=alpha, beta=beta, gamma=gamma, degree=2)\n",
    "    source_term = project(source_term, V)\n",
    "    u = TrialFunction(V)\n",
    "    v = TestFunction(V)\n",
    "    a = dot(grad(u), grad(v)) * dx\n",
    "    L = source_term * v * dx \n",
    "\n",
    "    u = Function(V)\n",
    "    solve(a == L, u, bcs)\n",
    "\n",
    "    coordinates = mesh.coordinates()\n",
    "    source_term_values, u_values = source_term.vector().get_local(), u.vector().get_local()\n",
    "    source_term_values, u_values = reshape_fenics_vector(source_term, mesh, nx+1), reshape_fenics_vector(u, mesh, nx+1)\n",
    "\n",
    "    source_term_list.append(source_term_values)\n",
    "    u_list.append(u_values)\n",
    "\n",
    "sio.savemat('source_term.mat', {'source_term': source_term_list})\n",
    "sio.savemat('u.mat', {'u': u_list})\n",
    "    "
   ]
  },
  {
   "cell_type": "code",
   "execution_count": 6,
   "metadata": {},
   "outputs": [
    {
     "data": {
      "text/plain": [
       "<matplotlib.tri._tricontour.TriContourSet at 0x7f85384cfe60>"
      ]
     },
     "execution_count": 6,
     "metadata": {},
     "output_type": "execute_result"
    },
    {
     "data": {
      "image/png": "[encoded data removed]",
      "text/plain": [
       "<Figure size 640x480 with 1 Axes>"
      ]
     },
     "metadata": {},
     "output_type": "display_data"
    }
   ],
   "source": [
    "plot(u)"
   ]
  }
 ],
 "metadata": {
  "kernelspec": {
   "display_name": "Python 3",
   "language": "python",
   "name": "python3"
  },
  "language_info": {
   "codemirror_mode": {
    "name": "ipython",
    "version": 3
   },
   "file_extension": ".py",
   "mimetype": "text/x-python",
   "name": "python",
   "nbconvert_exporter": "python",
   "pygments_lexer": "ipython3",
   "version": "3.12.0"
  }
 },
 "nbformat": 4,
 "nbformat_minor": 2
}
