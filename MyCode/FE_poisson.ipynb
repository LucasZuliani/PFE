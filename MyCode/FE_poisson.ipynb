{
 "cells": [
  {
   "cell_type": "code",
   "execution_count": 3,
   "metadata": {},
   "outputs": [],
   "source": [
    "import numpy as np\n",
    "from fenics import *\n",
    "from skopt.sampler import Lhs\n",
    "from skopt.space import Space\n",
    "import scipy.io as sio"
   ]
  },
  {
   "cell_type": "code",
   "execution_count": 6,
   "metadata": {},
   "outputs": [],
   "source": [
    "# Use Latin Hypercube Sampling to generate samples for the parameters alpha, beta and gamma\n",
    "space_lhs = Space([(1., 10.), (0, np.pi/2), (0, np.pi/2)]) # define the space of the parameters for alpha, beta and gamma\n",
    "lhs = Lhs(lhs_type=\"classic\", criterion=\"maximin\", iterations=1000)\n",
    "\n",
    "n_echantillons = 1\n",
    "lhs_samples = np.array(lhs.generate(space_lhs.dimensions, n_echantillons))\n",
    "sio.savemat('lhs_samples.mat', {'lhs_samples': lhs_samples})"
   ]
  },
  {
   "cell_type": "code",
   "execution_count": 33,
   "metadata": {},
   "outputs": [],
   "source": [
    "def boundary_R(x, on_boundary):\n",
    "    return on_boundary and near(x[0], 1.0, 1E-14)\n",
    "\n",
    "def boundary_R_barre(x, on_boundary):\n",
    "    return on_boundary and not(near(x[0], 1.0, 1E-14))\n",
    "\n",
    "u_R = Expression('cos(2 * pi * x[1])', degree=2)\n",
    "u_R_barre = Constant(1.0)"
   ]
  },
  {
   "cell_type": "code",
   "execution_count": 34,
   "metadata": {},
   "outputs": [],
   "source": [
    "import scipy.ndimage as ndimage\n",
    "def reshape_fenics_vector(u, mesh, square_dim):\n",
    "    coordinates = mesh.coordinates()\n",
    "    vertex_values = u.compute_vertex_values(mesh)\n",
    "\n",
    "    combined_info = list(zip(coordinates, vertex_values))\n",
    "    combined_info.sort(key=lambda x: (x[0][0]))\n",
    "\n",
    "    coordinates_sorted = [x[0] for x in combined_info]\n",
    "    vertex_values_sorted = [x[1] for x in combined_info]\n",
    "\n",
    "    return ndimage.rotate(np.reshape(vertex_values_sorted, (square_dim, square_dim))  , 90) "
   ]
  },
  {
   "cell_type": "code",
   "execution_count": 37,
   "metadata": {},
   "outputs": [
    {
     "name": "stdout",
     "output_type": "stream",
     "text": [
      "Solving linear variational problem.\n"
     ]
    },
    {
     "ename": "ValueError",
     "evalue": "cannot reshape array of size 11000 into shape (1100,1100)",
     "output_type": "error",
     "traceback": [
      "\u001b[0;31m---------------------------------------------------------------------------\u001b[0m",
      "\u001b[0;31mValueError\u001b[0m                                Traceback (most recent call last)",
      "Cell \u001b[0;32mIn[37], line 29\u001b[0m\n\u001b[1;32m     27\u001b[0m coordinates \u001b[38;5;241m=\u001b[39m mesh\u001b[38;5;241m.\u001b[39mcoordinates()\n\u001b[1;32m     28\u001b[0m source_term_values, u_values \u001b[38;5;241m=\u001b[39m source_term\u001b[38;5;241m.\u001b[39mvector()\u001b[38;5;241m.\u001b[39mget_local(), u\u001b[38;5;241m.\u001b[39mvector()\u001b[38;5;241m.\u001b[39mget_local()\n\u001b[0;32m---> 29\u001b[0m source_term_values, u_values \u001b[38;5;241m=\u001b[39m \u001b[43mreshape_fenics_vector\u001b[49m\u001b[43m(\u001b[49m\u001b[43msource_term\u001b[49m\u001b[43m,\u001b[49m\u001b[43m \u001b[49m\u001b[43mmesh\u001b[49m\u001b[43m,\u001b[49m\u001b[43m \u001b[49m\u001b[43mnx\u001b[49m\u001b[38;5;241;43m+\u001b[39;49m\u001b[38;5;241;43m1\u001b[39;49m\u001b[43m)\u001b[49m, reshape_fenics_vector(u, mesh, nx\u001b[38;5;241m+\u001b[39m\u001b[38;5;241m1\u001b[39m)\n\u001b[1;32m     31\u001b[0m source_term_list\u001b[38;5;241m.\u001b[39mappend(source_term_values)\n\u001b[1;32m     32\u001b[0m u_list\u001b[38;5;241m.\u001b[39mappend(u_values)\n",
      "Cell \u001b[0;32mIn[34], line 12\u001b[0m, in \u001b[0;36mreshape_fenics_vector\u001b[0;34m(u, mesh, square_dim)\u001b[0m\n\u001b[1;32m      9\u001b[0m coordinates_sorted \u001b[38;5;241m=\u001b[39m [x[\u001b[38;5;241m0\u001b[39m] \u001b[38;5;28;01mfor\u001b[39;00m x \u001b[38;5;129;01min\u001b[39;00m combined_info]\n\u001b[1;32m     10\u001b[0m vertex_values_sorted \u001b[38;5;241m=\u001b[39m [x[\u001b[38;5;241m1\u001b[39m] \u001b[38;5;28;01mfor\u001b[39;00m x \u001b[38;5;129;01min\u001b[39;00m combined_info]\n\u001b[0;32m---> 12\u001b[0m \u001b[38;5;28;01mreturn\u001b[39;00m ndimage\u001b[38;5;241m.\u001b[39mrotate(\u001b[43mnp\u001b[49m\u001b[38;5;241;43m.\u001b[39;49m\u001b[43mreshape\u001b[49m\u001b[43m(\u001b[49m\u001b[43mvertex_values_sorted\u001b[49m\u001b[43m,\u001b[49m\u001b[43m \u001b[49m\u001b[43m(\u001b[49m\u001b[43msquare_dim\u001b[49m\u001b[43m,\u001b[49m\u001b[43m \u001b[49m\u001b[43msquare_dim\u001b[49m\u001b[43m)\u001b[49m\u001b[43m)\u001b[49m  , \u001b[38;5;241m90\u001b[39m)\n",
      "File \u001b[0;32m~/anaconda3/envs/fenicsproject/lib/python3.12/site-packages/numpy/core/fromnumeric.py:285\u001b[0m, in \u001b[0;36mreshape\u001b[0;34m(a, newshape, order)\u001b[0m\n\u001b[1;32m    200\u001b[0m \u001b[38;5;129m@array_function_dispatch\u001b[39m(_reshape_dispatcher)\n\u001b[1;32m    201\u001b[0m \u001b[38;5;28;01mdef\u001b[39;00m \u001b[38;5;21mreshape\u001b[39m(a, newshape, order\u001b[38;5;241m=\u001b[39m\u001b[38;5;124m'\u001b[39m\u001b[38;5;124mC\u001b[39m\u001b[38;5;124m'\u001b[39m):\n\u001b[1;32m    202\u001b[0m \u001b[38;5;250m    \u001b[39m\u001b[38;5;124;03m\"\"\"\u001b[39;00m\n\u001b[1;32m    203\u001b[0m \u001b[38;5;124;03m    Gives a new shape to an array without changing its data.\u001b[39;00m\n\u001b[1;32m    204\u001b[0m \n\u001b[0;32m   (...)\u001b[0m\n\u001b[1;32m    283\u001b[0m \u001b[38;5;124;03m           [5, 6]])\u001b[39;00m\n\u001b[1;32m    284\u001b[0m \u001b[38;5;124;03m    \"\"\"\u001b[39;00m\n\u001b[0;32m--> 285\u001b[0m     \u001b[38;5;28;01mreturn\u001b[39;00m \u001b[43m_wrapfunc\u001b[49m\u001b[43m(\u001b[49m\u001b[43ma\u001b[49m\u001b[43m,\u001b[49m\u001b[43m \u001b[49m\u001b[38;5;124;43m'\u001b[39;49m\u001b[38;5;124;43mreshape\u001b[39;49m\u001b[38;5;124;43m'\u001b[39;49m\u001b[43m,\u001b[49m\u001b[43m \u001b[49m\u001b[43mnewshape\u001b[49m\u001b[43m,\u001b[49m\u001b[43m \u001b[49m\u001b[43morder\u001b[49m\u001b[38;5;241;43m=\u001b[39;49m\u001b[43morder\u001b[49m\u001b[43m)\u001b[49m\n",
      "File \u001b[0;32m~/anaconda3/envs/fenicsproject/lib/python3.12/site-packages/numpy/core/fromnumeric.py:56\u001b[0m, in \u001b[0;36m_wrapfunc\u001b[0;34m(obj, method, *args, **kwds)\u001b[0m\n\u001b[1;32m     54\u001b[0m bound \u001b[38;5;241m=\u001b[39m \u001b[38;5;28mgetattr\u001b[39m(obj, method, \u001b[38;5;28;01mNone\u001b[39;00m)\n\u001b[1;32m     55\u001b[0m \u001b[38;5;28;01mif\u001b[39;00m bound \u001b[38;5;129;01mis\u001b[39;00m \u001b[38;5;28;01mNone\u001b[39;00m:\n\u001b[0;32m---> 56\u001b[0m     \u001b[38;5;28;01mreturn\u001b[39;00m \u001b[43m_wrapit\u001b[49m\u001b[43m(\u001b[49m\u001b[43mobj\u001b[49m\u001b[43m,\u001b[49m\u001b[43m \u001b[49m\u001b[43mmethod\u001b[49m\u001b[43m,\u001b[49m\u001b[43m \u001b[49m\u001b[38;5;241;43m*\u001b[39;49m\u001b[43margs\u001b[49m\u001b[43m,\u001b[49m\u001b[43m \u001b[49m\u001b[38;5;241;43m*\u001b[39;49m\u001b[38;5;241;43m*\u001b[39;49m\u001b[43mkwds\u001b[49m\u001b[43m)\u001b[49m\n\u001b[1;32m     58\u001b[0m \u001b[38;5;28;01mtry\u001b[39;00m:\n\u001b[1;32m     59\u001b[0m     \u001b[38;5;28;01mreturn\u001b[39;00m bound(\u001b[38;5;241m*\u001b[39margs, \u001b[38;5;241m*\u001b[39m\u001b[38;5;241m*\u001b[39mkwds)\n",
      "File \u001b[0;32m~/anaconda3/envs/fenicsproject/lib/python3.12/site-packages/numpy/core/fromnumeric.py:45\u001b[0m, in \u001b[0;36m_wrapit\u001b[0;34m(obj, method, *args, **kwds)\u001b[0m\n\u001b[1;32m     43\u001b[0m \u001b[38;5;28;01mexcept\u001b[39;00m \u001b[38;5;167;01mAttributeError\u001b[39;00m:\n\u001b[1;32m     44\u001b[0m     wrap \u001b[38;5;241m=\u001b[39m \u001b[38;5;28;01mNone\u001b[39;00m\n\u001b[0;32m---> 45\u001b[0m result \u001b[38;5;241m=\u001b[39m \u001b[38;5;28;43mgetattr\u001b[39;49m\u001b[43m(\u001b[49m\u001b[43masarray\u001b[49m\u001b[43m(\u001b[49m\u001b[43mobj\u001b[49m\u001b[43m)\u001b[49m\u001b[43m,\u001b[49m\u001b[43m \u001b[49m\u001b[43mmethod\u001b[49m\u001b[43m)\u001b[49m\u001b[43m(\u001b[49m\u001b[38;5;241;43m*\u001b[39;49m\u001b[43margs\u001b[49m\u001b[43m,\u001b[49m\u001b[43m \u001b[49m\u001b[38;5;241;43m*\u001b[39;49m\u001b[38;5;241;43m*\u001b[39;49m\u001b[43mkwds\u001b[49m\u001b[43m)\u001b[49m\n\u001b[1;32m     46\u001b[0m \u001b[38;5;28;01mif\u001b[39;00m wrap:\n\u001b[1;32m     47\u001b[0m     \u001b[38;5;28;01mif\u001b[39;00m \u001b[38;5;129;01mnot\u001b[39;00m \u001b[38;5;28misinstance\u001b[39m(result, mu\u001b[38;5;241m.\u001b[39mndarray):\n",
      "\u001b[0;31mValueError\u001b[0m: cannot reshape array of size 11000 into shape (1100,1100)"
     ]
    }
   ],
   "source": [
    "nx, ny = 99, 99\n",
    "mesh = UnitSquareMesh(nx, ny)\n",
    "V = FunctionSpace(mesh, 'P', 1)\n",
    "coordinates = V.tabulate_dof_coordinates()\n",
    "bc_R = DirichletBC(V, u_R, boundary_R)\n",
    "bc_R_barre = DirichletBC(V, u_R_barre, boundary_R_barre)\n",
    "bcs = [bc_R_barre, bc_R]\n",
    "source_term_str = 'alpha * pow(pi, 2) * (x[0]*x[0] + x[1]*x[1]) * sin(pi*(x[0] + beta)*(x[1] + gamma))'\n",
    "\n",
    "source_term_list = []\n",
    "u_list = []\n",
    "\n",
    "for alpha, beta, gamma in lhs_samples:\n",
    "\n",
    "    source_term = Expression(source_term_str, alpha=alpha, beta=beta, gamma=gamma, degree=2)\n",
    "    source_term = project(source_term, V)\n",
    "    u = TrialFunction(V)\n",
    "    v = TestFunction(V)\n",
    "    a = dot(grad(u), grad(v)) * dx\n",
    "    L = source_term * v * dx \n",
    "\n",
    "    u = Function(V)\n",
    "    solve(a == L, u, bcs)\n",
    "\n",
    "    coordinates = mesh.coordinates()\n",
    "    source_term_values, u_values = source_term.vector().get_local(), u.vector().get_local()\n",
    "    source_term_values, u_values = reshape_fenics_vector(source_term, mesh, nx+1), reshape_fenics_vector(u, mesh, nx+1)\n",
    "\n",
    "    source_term_list.append(source_term_values)\n",
    "    u_list.append(u_values)\n",
    "\n",
    "sio.savemat('source_term.mat', {'source_term': source_term_list})\n",
    "sio.savemat('u.mat', {'u': u_list})\n",
    "    "
   ]
  },
  {
   "cell_type": "code",
   "execution_count": null,
   "metadata": {},
   "outputs": [
    {
     "data": {
      "text/plain": [
       "<matplotlib.tri._tricontour.TriContourSet at 0x7f85b81eaa80>"
      ]
     },
     "execution_count": 30,
     "metadata": {},
     "output_type": "execute_result"
    },
    {
     "data": {
      "image/png": "[encoded data removed]",
      "text/plain": [
       "<Figure size 640x480 with 1 Axes>"
      ]
     },
     "metadata": {},
     "output_type": "display_data"
    }
   ],
   "source": [
    "plot(u)"
   ]
  }
 ],
 "metadata": {
  "kernelspec": {
   "display_name": "Python 3",
   "language": "python",
   "name": "python3"
  },
  "language_info": {
   "codemirror_mode": {
    "name": "ipython",
    "version": 3
   },
   "file_extension": ".py",
   "mimetype": "text/x-python",
   "name": "python",
   "nbconvert_exporter": "python",
   "pygments_lexer": "ipython3",
   "version": "3.12.0"
  }
 },
 "nbformat": 4,
 "nbformat_minor": 2
}
