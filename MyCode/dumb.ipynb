{
 "cells": [
  {
   "cell_type": "markdown",
   "metadata": {},
   "source": [
    "## Ecrire la description du problème sur moment de flemme"
   ]
  },
  {
   "cell_type": "code",
   "execution_count": 112,
   "metadata": {},
   "outputs": [],
   "source": [
    "import torch\n",
    "import numpy as np\n",
    "import matplotlib.pyplot as plt\n",
    "from scipy.integrate import trapz"
   ]
  },
  {
   "cell_type": "code",
   "execution_count": 136,
   "metadata": {},
   "outputs": [],
   "source": [
    "def f1(x):\n",
    "    return x**2"
   ]
  },
  {
   "cell_type": "code",
   "execution_count": 142,
   "metadata": {},
   "outputs": [
    {
     "name": "stdout",
     "output_type": "stream",
     "text": [
      "[2.057613168724326e-03 6.941552131062290e-05 1.700506751023401e-05\n",
      " 2.688128686090252e-06 6.693413547309568e-07 1.670005007059494e-07\n",
      " 6.669334140507743e-09 1.667000093519277e-09 1.666700111258024e-11\n",
      " 1.666444759962360e-13 1.720845688168993e-15]\n"
     ]
    }
   ],
   "source": [
    "torch.manual_seed(0)\n",
    "number_points = np.array([10, 50, 1e2, 250, 500, 1e3, 5000, 1e4, 1e5, 1e6, 1e7])\n",
    "monte_carlo_estimation = np.array([])\n",
    "trapz_estimation = np.array([])\n",
    "np.set_printoptions(precision=15)\n",
    "\n",
    "for n in number_points :\n",
    "    # x = torch.rand(int(n))\n",
    "    x = np.linspace(0, 1, int(n))\n",
    "    y = f1(x)\n",
    "    # monte_carlo_estimation = np.append(monte_carlo_estimation, torch.mean(y).item())\n",
    "    trapz_estimation = np.append(trapz_estimation, trapz(y, x).item())\n",
    "\n",
    "\n",
    "monte_carlo_error = np.abs(monte_carlo_estimation - 1/3)\n",
    "trapz_error = np.abs(trapz_estimation - 1/3)\n",
    "print(trapz_error)\n",
    "# slope = np.diff(monte_carlo_estimation)/np.diff(number_points)"
   ]
  },
  {
   "cell_type": "code",
   "execution_count": 127,
   "metadata": {},
   "outputs": [
    {
     "data": {
      "image/png": "[encoded data removed]",
      "text/plain": [
       "<Figure size 640x480 with 1 Axes>"
      ]
     },
     "metadata": {},
     "output_type": "display_data"
    }
   ],
   "source": [
    "plt.plot(number_points, trapz_error, marker='o')\n",
    "plt.yscale('log')\n",
    "# for i in range(len(number_points) - 1):\n",
    "#     x_mid = (number_points[i] + number_points[i+1])/2\n",
    "#     y_mid = (monte_carlo_error[i] + monte_carlo_error[i+1])/2\n",
    "#     plt.text(x_mid, y_mid, f'{slope[i]:.8f}', fontsize=12)\n",
    "plt.show()"
   ]
  },
  {
   "cell_type": "code",
   "execution_count": 65,
   "metadata": {},
   "outputs": [],
   "source": [
    "def u_exact(x):\n",
    "    return 2 + x\n",
    "\n",
    "def grad_u():\n",
    "    return 2"
   ]
  },
  {
   "cell_type": "code",
   "execution_count": 66,
   "metadata": {},
   "outputs": [],
   "source": [
    "nb_points = 4\n",
    "omega = torch.linspace(0, 1, nb_points) # boundary included\n",
    "sol = u_exact(omega)"
   ]
  },
  {
   "cell_type": "code",
   "execution_count": 67,
   "metadata": {},
   "outputs": [],
   "source": [
    "# MODEL DEFINITION #\n",
    "\n",
    "class Block(torch.nn.Module):\n",
    "    def __init__(self, m) -> None:\n",
    "        super(Block, self).__init__()\n",
    "        self.fc = torch.nn.Linear(in_features=m, out_features=m)\n",
    "        # self.activation = torch.nn.Tanh()\n",
    "        self.activation = lambda x: torch.maximum(x**3, torch.tensor(0.))\n",
    "\n",
    "    def forward(self, x):\n",
    "        identity = x\n",
    "        x = self.fc(x)\n",
    "        x = self.activation(x)\n",
    "        x = self.fc(x)\n",
    "        x = self.activation(x)\n",
    "        return x + identity\n",
    "    \n",
    "class Model(torch.nn.Module):\n",
    "    def __init__(self, input_dim, hidden_layer_dim, nb_blocks) -> None:\n",
    "        super(Model, self).__init__()\n",
    "        self.fc_in = torch.nn.Linear(in_features=input_dim, out_features=hidden_layer_dim)\n",
    "        self.blocks = torch.nn.ModuleList([Block(hidden_layer_dim) for _ in range(nb_blocks)])\n",
    "        self.fc_out = torch.nn.Linear(hidden_layer_dim, 1)\n",
    "\n",
    "    def forward(self, x):\n",
    "        x = self.fc_in(x)\n",
    "        for block in self.blocks:\n",
    "            x = block(x)\n",
    "        x = self.fc_out(x)\n",
    "        return x"
   ]
  },
  {
   "cell_type": "code",
   "execution_count": 195,
   "metadata": {},
   "outputs": [],
   "source": [
    "class ActivationCube(torch.nn.Module):\n",
    "    def __init__(self) -> None:\n",
    "        super(ActivationCube, self).__init__()\n",
    "\n",
    "    def forward(self, x):\n",
    "        return torch.maximum(x**3, torch.tensor(0.))\n",
    "\n",
    "class RitzModel(torch.nn.Module):\n",
    "\n",
    "    def __init__(self):\n",
    "        super(RitzModel, self).__init__()\n",
    "\n",
    "        self.fc1 = torch.nn.Linear(in_features=1, out_features=10)\n",
    "        self.activation1 = ActivationCube()\n",
    "        self.fc2 = torch.nn.Linear(in_features=10, out_features=10)\n",
    "        self.activation2 = ActivationCube()\n",
    "\n",
    "        self.fc3 = torch.nn.Linear(in_features=10, out_features=10)\n",
    "        self.activation3 = ActivationCube()\n",
    "        self.fc4 = torch.nn.Linear(in_features=10, out_features=10)\n",
    "        self.activation4 = ActivationCube()\n",
    "\n",
    "        self.fc5 = torch.nn.Linear(in_features=10, out_features=10)\n",
    "        self.activation5 = ActivationCube()\n",
    "        self.fc6 = torch.nn.Linear(in_features=10, out_features=10)\n",
    "        self.activation6 = ActivationCube()\n",
    "\n",
    "        self.fc7 = torch.nn.Linear(in_features=10, out_features=10)\n",
    "        self.activation7 = ActivationCube()\n",
    "        self.fc8 = torch.nn.Linear(in_features=10, out_features=10)\n",
    "        self.activation8 = ActivationCube()\n",
    "\n",
    "        self.fc9 = torch.nn.Linear(in_features=10, out_features=1)\n",
    "\n",
    "    def forward(self, x):\n",
    "        retain_x1 = x\n",
    "        x = self.fc1(x)\n",
    "        x = self.activation1(x)\n",
    "        x = self.fc2(x)\n",
    "        x = self.activation2(x)\n",
    "        x = x + retain_x1\n",
    "\n",
    "        retain_x2 = x\n",
    "        x = self.fc3(x)\n",
    "        x = self.activation3(x)\n",
    "        x = self.fc4(x)\n",
    "        x = self.activation4(x)\n",
    "        x = x + retain_x2\n",
    "\n",
    "        retain_x3 = x\n",
    "        x = self.fc5(x)\n",
    "        x = self.activation5(x)\n",
    "        x = self.fc6(x)\n",
    "        x = self.activation6(x)\n",
    "        x = x + retain_x3\n",
    "\n",
    "        retain_x4 = x\n",
    "        x = self.fc7(x)\n",
    "        x = self.activation7(x)\n",
    "        x = self.fc8(x)\n",
    "        x = self.activation8(x)\n",
    "        x = x + retain_x4\n",
    "\n",
    "        u_theta = self.fc9(x)\n",
    "\n",
    "        return u_theta"
   ]
  },
  {
   "cell_type": "code",
   "execution_count": 196,
   "metadata": {},
   "outputs": [
    {
     "name": "stdout",
     "output_type": "stream",
     "text": [
      "RitzModel(\n",
      "  (fc1): Linear(in_features=1, out_features=10, bias=True)\n",
      "  (activation1): ActivationCube()\n",
      "  (fc2): Linear(in_features=10, out_features=10, bias=True)\n",
      "  (activation2): ActivationCube()\n",
      "  (fc3): Linear(in_features=10, out_features=10, bias=True)\n",
      "  (activation3): ActivationCube()\n",
      "  (fc4): Linear(in_features=10, out_features=10, bias=True)\n",
      "  (activation4): ActivationCube()\n",
      "  (fc5): Linear(in_features=10, out_features=10, bias=True)\n",
      "  (activation5): ActivationCube()\n",
      "  (fc6): Linear(in_features=10, out_features=10, bias=True)\n",
      "  (activation6): ActivationCube()\n",
      "  (fc7): Linear(in_features=10, out_features=10, bias=True)\n",
      "  (activation7): ActivationCube()\n",
      "  (fc8): Linear(in_features=10, out_features=10, bias=True)\n",
      "  (activation8): ActivationCube()\n",
      "  (fc9): Linear(in_features=10, out_features=1, bias=True)\n",
      ")\n",
      "Le nombre de paramètres est 801\n"
     ]
    }
   ],
   "source": [
    "ritz_model = RitzModel()\n",
    "print(ritz_model)\n",
    "print(f'Le nombre de paramètres est {sum(p.numel() for p in ritz_model.parameters())}')"
   ]
  },
  {
   "cell_type": "code",
   "execution_count": 147,
   "metadata": {},
   "outputs": [
    {
     "name": "stdout",
     "output_type": "stream",
     "text": [
      "[0. 0. 0. ... 0. 0. 0.]\n"
     ]
    },
    {
     "ename": "RuntimeError",
     "evalue": "grad can be implicitly created only for scalar outputs",
     "output_type": "error",
     "traceback": [
      "\u001b[0;31m---------------------------------------------------------------------------\u001b[0m",
      "\u001b[0;31mRuntimeError\u001b[0m                              Traceback (most recent call last)",
      "Cell \u001b[0;32mIn [147], line 33\u001b[0m\n\u001b[1;32m     30\u001b[0m l \u001b[38;5;241m=\u001b[39m torch\u001b[38;5;241m.\u001b[39mtensor([l1]) \u001b[38;5;241m-\u001b[39m l2\n\u001b[1;32m     32\u001b[0m gen_opt\u001b[38;5;241m.\u001b[39mzero_grad()\n\u001b[0;32m---> 33\u001b[0m \u001b[43ml\u001b[49m\u001b[38;5;241;43m.\u001b[39;49m\u001b[43mbackward\u001b[49m\u001b[43m(\u001b[49m\u001b[43m)\u001b[49m\n\u001b[1;32m     34\u001b[0m gen_opt\u001b[38;5;241m.\u001b[39mstep()\n",
      "File \u001b[0;32m~/.local/lib/python3.8/site-packages/torch/_tensor.py:487\u001b[0m, in \u001b[0;36mTensor.backward\u001b[0;34m(self, gradient, retain_graph, create_graph, inputs)\u001b[0m\n\u001b[1;32m    477\u001b[0m \u001b[38;5;28;01mif\u001b[39;00m has_torch_function_unary(\u001b[38;5;28mself\u001b[39m):\n\u001b[1;32m    478\u001b[0m     \u001b[38;5;28;01mreturn\u001b[39;00m handle_torch_function(\n\u001b[1;32m    479\u001b[0m         Tensor\u001b[38;5;241m.\u001b[39mbackward,\n\u001b[1;32m    480\u001b[0m         (\u001b[38;5;28mself\u001b[39m,),\n\u001b[0;32m   (...)\u001b[0m\n\u001b[1;32m    485\u001b[0m         inputs\u001b[38;5;241m=\u001b[39minputs,\n\u001b[1;32m    486\u001b[0m     )\n\u001b[0;32m--> 487\u001b[0m \u001b[43mtorch\u001b[49m\u001b[38;5;241;43m.\u001b[39;49m\u001b[43mautograd\u001b[49m\u001b[38;5;241;43m.\u001b[39;49m\u001b[43mbackward\u001b[49m\u001b[43m(\u001b[49m\n\u001b[1;32m    488\u001b[0m \u001b[43m    \u001b[49m\u001b[38;5;28;43mself\u001b[39;49m\u001b[43m,\u001b[49m\u001b[43m \u001b[49m\u001b[43mgradient\u001b[49m\u001b[43m,\u001b[49m\u001b[43m \u001b[49m\u001b[43mretain_graph\u001b[49m\u001b[43m,\u001b[49m\u001b[43m \u001b[49m\u001b[43mcreate_graph\u001b[49m\u001b[43m,\u001b[49m\u001b[43m \u001b[49m\u001b[43minputs\u001b[49m\u001b[38;5;241;43m=\u001b[39;49m\u001b[43minputs\u001b[49m\n\u001b[1;32m    489\u001b[0m \u001b[43m\u001b[49m\u001b[43m)\u001b[49m\n",
      "File \u001b[0;32m~/.local/lib/python3.8/site-packages/torch/autograd/__init__.py:193\u001b[0m, in \u001b[0;36mbackward\u001b[0;34m(tensors, grad_tensors, retain_graph, create_graph, grad_variables, inputs)\u001b[0m\n\u001b[1;32m    189\u001b[0m inputs \u001b[38;5;241m=\u001b[39m (inputs,) \u001b[38;5;28;01mif\u001b[39;00m \u001b[38;5;28misinstance\u001b[39m(inputs, torch\u001b[38;5;241m.\u001b[39mTensor) \u001b[38;5;28;01melse\u001b[39;00m \\\n\u001b[1;32m    190\u001b[0m     \u001b[38;5;28mtuple\u001b[39m(inputs) \u001b[38;5;28;01mif\u001b[39;00m inputs \u001b[38;5;129;01mis\u001b[39;00m \u001b[38;5;129;01mnot\u001b[39;00m \u001b[38;5;28;01mNone\u001b[39;00m \u001b[38;5;28;01melse\u001b[39;00m \u001b[38;5;28mtuple\u001b[39m()\n\u001b[1;32m    192\u001b[0m grad_tensors_ \u001b[38;5;241m=\u001b[39m _tensor_or_tensors_to_tuple(grad_tensors, \u001b[38;5;28mlen\u001b[39m(tensors))\n\u001b[0;32m--> 193\u001b[0m grad_tensors_ \u001b[38;5;241m=\u001b[39m \u001b[43m_make_grads\u001b[49m\u001b[43m(\u001b[49m\u001b[43mtensors\u001b[49m\u001b[43m,\u001b[49m\u001b[43m \u001b[49m\u001b[43mgrad_tensors_\u001b[49m\u001b[43m,\u001b[49m\u001b[43m \u001b[49m\u001b[43mis_grads_batched\u001b[49m\u001b[38;5;241;43m=\u001b[39;49m\u001b[38;5;28;43;01mFalse\u001b[39;49;00m\u001b[43m)\u001b[49m\n\u001b[1;32m    194\u001b[0m \u001b[38;5;28;01mif\u001b[39;00m retain_graph \u001b[38;5;129;01mis\u001b[39;00m \u001b[38;5;28;01mNone\u001b[39;00m:\n\u001b[1;32m    195\u001b[0m     retain_graph \u001b[38;5;241m=\u001b[39m create_graph\n",
      "File \u001b[0;32m~/.local/lib/python3.8/site-packages/torch/autograd/__init__.py:88\u001b[0m, in \u001b[0;36m_make_grads\u001b[0;34m(outputs, grads, is_grads_batched)\u001b[0m\n\u001b[1;32m     86\u001b[0m \u001b[38;5;28;01mif\u001b[39;00m out\u001b[38;5;241m.\u001b[39mrequires_grad:\n\u001b[1;32m     87\u001b[0m     \u001b[38;5;28;01mif\u001b[39;00m out\u001b[38;5;241m.\u001b[39mnumel() \u001b[38;5;241m!=\u001b[39m \u001b[38;5;241m1\u001b[39m:\n\u001b[0;32m---> 88\u001b[0m         \u001b[38;5;28;01mraise\u001b[39;00m \u001b[38;5;167;01mRuntimeError\u001b[39;00m(\u001b[38;5;124m\"\u001b[39m\u001b[38;5;124mgrad can be implicitly created only for scalar outputs\u001b[39m\u001b[38;5;124m\"\u001b[39m)\n\u001b[1;32m     89\u001b[0m     new_grads\u001b[38;5;241m.\u001b[39mappend(torch\u001b[38;5;241m.\u001b[39mones_like(out, memory_format\u001b[38;5;241m=\u001b[39mtorch\u001b[38;5;241m.\u001b[39mpreserve_format))\n\u001b[1;32m     90\u001b[0m \u001b[38;5;28;01melse\u001b[39;00m:\n",
      "\u001b[0;31mRuntimeError\u001b[0m: grad can be implicitly created only for scalar outputs"
     ]
    }
   ],
   "source": [
    "num_epochs = 100\n",
    "lr = 1e-4\n",
    "beta_1 = 0.5\n",
    "beta_2 = 0.999\n",
    "gamma = 500\n",
    "\n",
    "# MODEL INITIALIZATION #\n",
    "gen = Model(input_dim=1, hidden_layer_dim=10, nb_blocks=1)\n",
    "gen_opt = torch.optim.Adam(gen.parameters(), lr=lr, betas=(beta_1, beta_2))\n",
    "\n",
    "for epoch in range(10):\n",
    "    mc_omega = torch.rand(10000) \n",
    "    mc_omega_unsqueeze = mc_omega.unsqueeze(1) # we add a dimension to match the input dimension of the model\n",
    "    mc_omega_unsqueeze.requires_grad = True\n",
    "\n",
    "    boundary_left = torch.zeros(1).unsqueeze(1)\n",
    "    boundary_right = torch.ones(1).unsqueeze(1)\n",
    "\n",
    "    output_mc_omega = gen(mc_omega_unsqueeze)\n",
    "    output_mc_boundary_left = gen(boundary_left)\n",
    "    output_mc_boundary_right = gen(boundary_right)\n",
    "    # print(output_mc_boundary_right)\n",
    "\n",
    "    grad_output_mc = torch.ones_like(output_mc_omega)\n",
    "    grad_output_mc = torch.autograd.grad(output_mc_omega, mc_omega_unsqueeze, grad_output_mc, create_graph=True)[0]\n",
    "\n",
    "    l1 = 0.5 * torch.mean(grad_output_mc.square())\n",
    "    l2 = gen(boundary_left) - 2 + gen(boundary_right) - 3\n",
    "    l = l1 - l2\n",
    "\n",
    "    gen_opt.zero_grad()\n",
    "    l.backward()\n",
    "    gen_opt.step()"
   ]
  },
  {
   "cell_type": "code",
   "execution_count": 85,
   "metadata": {},
   "outputs": [
    {
     "name": "stdout",
     "output_type": "stream",
     "text": [
      "tensor([[0.2813],\n",
      "        [0.3227],\n",
      "        [0.3625],\n",
      "        [0.3960]], grad_fn=<AddmmBackward0>)\n"
     ]
    }
   ],
   "source": [
    "print(gen(omega.unsqueeze(1)))"
   ]
  }
 ],
 "metadata": {
  "kernelspec": {
   "display_name": "Python 3",
   "language": "python",
   "name": "python3"
  },
  "language_info": {
   "codemirror_mode": {
    "name": "ipython",
    "version": 3
   },
   "file_extension": ".py",
   "mimetype": "text/x-python",
   "name": "python",
   "nbconvert_exporter": "python",
   "pygments_lexer": "ipython3",
   "version": "3.8.10"
  }
 },
 "nbformat": 4,
 "nbformat_minor": 2
}
