{
 "cells": [
  {
   "cell_type": "markdown",
   "metadata": {},
   "source": [
    "## Ecrire la description du problème sur moment de flemme"
   ]
  },
  {
   "cell_type": "code",
   "execution_count": 87,
   "metadata": {},
   "outputs": [],
   "source": [
    "import torch\n",
    "import numpy as np"
   ]
  },
  {
   "cell_type": "code",
   "execution_count": 88,
   "metadata": {},
   "outputs": [],
   "source": [
    "def u_exact(x):\n",
    "    return 2 + x\n",
    "\n",
    "def grad_u():\n",
    "    return 2"
   ]
  },
  {
   "cell_type": "code",
   "execution_count": 89,
   "metadata": {},
   "outputs": [],
   "source": [
    "nb_points = 4\n",
    "omega = torch.linspace(0, 1, nb_points) # boundary included\n",
    "sol = u_exact(omega)"
   ]
  },
  {
   "cell_type": "code",
   "execution_count": 90,
   "metadata": {},
   "outputs": [],
   "source": [
    "# MODEL DEFINITION #\n",
    "\n",
    "class Block(torch.nn.Module):\n",
    "    def __init__(self, m) -> None:\n",
    "        super(Block, self).__init__()\n",
    "        self.fc = torch.nn.Linear(in_features=m, out_features=m)\n",
    "        # self.activation = torch.nn.Tanh()\n",
    "        self.activation = lambda x: torch.maximum(x**3, torch.tensor(0.))\n",
    "\n",
    "    def forward(self, x):\n",
    "        identity = x\n",
    "        x = self.fc(x)\n",
    "        x = self.activation(x)\n",
    "        x = self.fc(x)\n",
    "        x = self.activation(x)\n",
    "        return x + identity\n",
    "    \n",
    "class Model(torch.nn.Module):\n",
    "    def __init__(self, input_dim, hidden_layer_dim, nb_blocks) -> None:\n",
    "        super(Model, self).__init__()\n",
    "        self.fc_in = torch.nn.Linear(in_features=input_dim, out_features=hidden_layer_dim)\n",
    "        self.blocks = torch.nn.ModuleList([Block(hidden_layer_dim) for _ in range(nb_blocks)])\n",
    "        self.fc_out = torch.nn.Linear(hidden_layer_dim, 1)\n",
    "\n",
    "    def forward(self, x):\n",
    "        x = self.fc_in(x)\n",
    "        for block in self.blocks:\n",
    "            x = block(x)\n",
    "        x = self.fc_out(x)\n",
    "        return x"
   ]
  },
  {
   "cell_type": "code",
   "execution_count": 95,
   "metadata": {},
   "outputs": [],
   "source": [
    "num_epochs = 100\n",
    "lr = 1e-4\n",
    "beta_1 = 0.5\n",
    "beta_2 = 0.999\n",
    "gamma = 500\n",
    "torch.manual_seed(0)\n",
    "\n",
    "# MODEL INITIALIZATION #\n",
    "gen = Model(input_dim=1, hidden_layer_dim=10, nb_blocks=1)\n",
    "gen_opt = torch.optim.Adam(gen.parameters(), lr=lr, betas=(beta_1, beta_2))\n",
    "\n",
    "for epoch in range(10):\n",
    "    mc_omega = torch.rand(10) \n",
    "    mc_omega_unsqueeze = mc_omega.unsqueeze(1) # we add a dimension to match the input dimension of the model\n",
    "    mc_omega_unsqueeze.requires_grad = True\n",
    "\n",
    "    boundary_left = torch.zeros(1).unsqueeze(1)\n",
    "    boundary_right = torch.ones(1).unsqueeze(1)\n",
    "\n",
    "    output_mc_omega = gen(mc_omega_unsqueeze)\n",
    "    output_mc_boundary_left = gen(boundary_left)\n",
    "    output_mc_boundary_right = gen(boundary_right)\n",
    "    # print(output_mc_boundary_right)\n",
    "\n",
    "    grad_output_mc = torch.ones_like(output_mc_omega)\n",
    "    grad_output_mc = torch.autograd.grad(output_mc_omega, mc_omega_unsqueeze, grad_output_mc, create_graph=True)[0]\n",
    "\n",
    "    l1 = 0.5 * torch.mean(grad_output_mc.square())\n",
    "    l2 = gen(boundary_left) - 2 + gen(boundary_right) - 3\n",
    "    l = l1 - l2\n",
    "\n",
    "    gen_opt.zero_grad()\n",
    "    l.backward()\n",
    "    gen_opt.step()"
   ]
  },
  {
   "cell_type": "code",
   "execution_count": 96,
   "metadata": {},
   "outputs": [
    {
     "name": "stdout",
     "output_type": "stream",
     "text": [
      "tensor([[0.2818],\n",
      "        [0.3324],\n",
      "        [0.3824],\n",
      "        [0.4305]], grad_fn=<AddmmBackward0>)\n"
     ]
    }
   ],
   "source": [
    "print(gen(omega.unsqueeze(1)))"
   ]
  }
 ],
 "metadata": {
  "kernelspec": {
   "display_name": "Python 3",
   "language": "python",
   "name": "python3"
  },
  "language_info": {
   "codemirror_mode": {
    "name": "ipython",
    "version": 3
   },
   "file_extension": ".py",
   "mimetype": "text/x-python",
   "name": "python",
   "nbconvert_exporter": "python",
   "pygments_lexer": "ipython3",
   "version": "3.8.10"
  }
 },
 "nbformat": 4,
 "nbformat_minor": 2
}
